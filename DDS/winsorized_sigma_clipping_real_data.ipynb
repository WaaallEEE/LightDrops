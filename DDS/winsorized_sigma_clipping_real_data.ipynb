{
 "cells": [
  {
   "cell_type": "code",
   "execution_count": 1,
   "metadata": {},
   "outputs": [],
   "source": [
    "import numpy as np"
   ]
  },
  {
   "cell_type": "code",
   "execution_count": 2,
   "metadata": {},
   "outputs": [],
   "source": [
    "def loop_wins(images, med, sigma, rejMask, verbose=False):\n",
    "    \n",
    "    n1 = 1\n",
    "    qmask = np.ones(images.shape[0], dtype=np.bool)\n",
    "    images[rejMask] = np.nan\n",
    "    while n1>0:\n",
    "        m0 = (med - 1.5*sigma)[:, np.newaxis]\n",
    "        m1 = (med + 1.5*sigma)[:, np.newaxis]\n",
    "        mask_min = images < m0\n",
    "        mask_max = images > m1\n",
    "        images[mask_min] = np.tile(m0, (1, images.shape[1]))[mask_min]\n",
    "        images[mask_max] = np.tile(m1, (1, images.shape[1]))[mask_max]\n",
    "        sigma0 = sigma.copy()\n",
    "        # Apply pixel rejection mask before calculating new sigma\n",
    "        if np.isnan(images.sum()):\n",
    "            med[qmask] = np.nanmedian(images, axis=1)[qmask]\n",
    "            sigma[qmask] = 1.134*np.nanstd(images, axis=1)[qmask]\n",
    "        else:\n",
    "            med[qmask] = np.median(images, axis=1)[qmask]\n",
    "            sigma[qmask] = 1.134*np.std(images, axis=1)[qmask]\n",
    "        qmask = np.abs(sigma - sigma0)/sigma0 > 0.0005\n",
    "        rows = np.where(qmask)[0]\n",
    "        n1 = qmask.sum()\n",
    "        if n1 > 0: \n",
    "            print(med.sum())\n",
    "        if verbose: print('n1 = ', n1)\n",
    "    return med, sigma"
   ]
  },
  {
   "cell_type": "code",
   "execution_count": 16,
   "metadata": {},
   "outputs": [],
   "source": [
    "def loop_wins2(images, med, sigma, rejMask):\n",
    "\n",
    "    rows0 = np.arange(images.shape[0])\n",
    "    med_out = med.copy()\n",
    "    sigma_out = sigma.copy()\n",
    "    images[rejMask] = np.nan\n",
    "    # 1st pass of winsorization using just the median as the replacement value\n",
    "    mask_init = np.abs(images - med[:, np.newaxis])/sigma[:, np.newaxis] > 5\n",
    "    images[mask_init] = np.tile(med[:, np.newaxis], (1, images.shape[1]))[mask_init]\n",
    "    sigma0 = sigma.copy()\n",
    "    # Apply pixel rejection mask before calculating new sigma\n",
    "    if np.isnan(images.sum()):\n",
    "        med = np.nanmedian(images, axis=1)\n",
    "        sigma = 1.134 * np.nanstd(images, axis=1)\n",
    "    else:\n",
    "        med = np.median(images, axis=1)\n",
    "        sigma = 1.134 * np.std(images, axis=1)\n",
    "    med_out[rows0] = med\n",
    "    sigma_out[rows0] = sigma\n",
    "\n",
    "    rows = np.where(np.abs(sigma - sigma0) / sigma0 > 0.0005)[0]\n",
    "\n",
    "    images = images[rows, :]\n",
    "    med = med[rows]\n",
    "    sigma = sigma[rows]\n",
    "\n",
    "    rows0 = rows0[rows]\n",
    "    n1 = len(rows)\n",
    "    print(n1)\n",
    "\n",
    "#     while n1 > 0:\n",
    "\n",
    "#         m0 = (med - 1.5 * sigma)[:, np.newaxis]\n",
    "#         m1 = (med + 1.5 * sigma)[:, np.newaxis]\n",
    "#         mask_min = images < m0\n",
    "#         mask_max = images > m1\n",
    "#         images[mask_min] = np.tile(m0, (1, images.shape[1]))[mask_min]\n",
    "#         images[mask_max] = np.tile(m1, (1, images.shape[1]))[mask_max]\n",
    "#         sigma0 = sigma.copy()\n",
    "#         # Apply pixel rejection mask before calculating new sigma\n",
    "#         if np.isnan(images.sum()):\n",
    "#             med = np.nanmedian(images, axis=1)\n",
    "#             sigma = 1.134 * np.nanstd(images, axis=1)\n",
    "#         else:\n",
    "#             med = np.median(images, axis=1)\n",
    "#             sigma = 1.134 * np.std(images, axis=1)\n",
    "\n",
    "#         med_out[rows0] = med\n",
    "#         sigma_out[rows0] = sigma\n",
    "\n",
    "#         rows = np.where(np.abs(sigma - sigma0) / sigma0 > 0.0005)[0]\n",
    "\n",
    "#         images = images[rows, :]\n",
    "#         med = med[rows]\n",
    "#         sigma = sigma[rows]\n",
    "\n",
    "#         rows0 = rows0[rows]\n",
    "#         n1 = len(rows)\n",
    "#         print(n1)\n",
    "\n",
    "#     med_out[rows0] = med\n",
    "#     sigma_out[rows0] = sigma\n",
    "\n",
    "\n",
    "    return med_out, sigma_out"
   ]
  },
  {
   "cell_type": "code",
   "execution_count": 4,
   "metadata": {},
   "outputs": [],
   "source": [
    "from astropy.io import fits\n",
    "from pathlib import Path\n",
    "import numpy as np\n",
    "import matplotlib.pyplot as plt\n",
    "import os\n",
    "cal_dir = Path(os.environ['DATA'], 'DDS', 'Taka', 'Calibration')\n",
    "str(cal_dir)\n",
    "\n",
    "def fitsread(f, header=False, yslice=None):\n",
    "    with fits.open(f) as hdul:\n",
    "        if yslice is not None:\n",
    "            data = hdul[0].data[yslice[0]:yslice[1], :]\n",
    "        else:\n",
    "            data = hdul[0].data\n",
    "        if header:\n",
    "            h = hdul[0].header\n",
    "            return data, h\n",
    "        else:\n",
    "            return data\n",
    "    "
   ]
  },
  {
   "cell_type": "code",
   "execution_count": 5,
   "metadata": {},
   "outputs": [
    {
     "name": "stdout",
     "output_type": "stream",
     "text": [
      "200\n",
      "4524 3624\n",
      "4524 906\n"
     ]
    }
   ],
   "source": [
    "bias_dir = Path(cal_dir, 'Bias_bin1_Mar_2018')\n",
    "biasf = list(bias_dir.rglob('Bias*.fit'))\n",
    "print(len(biasf))\n",
    "d0, h0 = fitsread(biasf[0], header=True)\n",
    "nx = h0['NAXIS1']\n",
    "ny = h0['NAXIS2']\n",
    "ny2 = int(ny/4)\n",
    "print(nx,ny)\n",
    "print(nx, ny2)\n",
    "slice1 = np.s_[0:ny2, :]\n",
    "yslice=[0,ny2]\n",
    "\n",
    "datacube = np.moveaxis(np.array([fits.getdata(f) for f in biasf]), 0, 2)"
   ]
  },
  {
   "cell_type": "code",
   "execution_count": 17,
   "metadata": {},
   "outputs": [],
   "source": [
    "flatc = datacube[0,...].astype(np.float32)"
   ]
  },
  {
   "cell_type": "code",
   "execution_count": 19,
   "metadata": {},
   "outputs": [
    {
     "name": "stdout",
     "output_type": "stream",
     "text": [
      "4524\n",
      "Wall time: 56.9 ms\n"
     ]
    }
   ],
   "source": [
    "%%time \n",
    "m = np.median(flatc, axis=1)\n",
    "sigma = np.std(flatc, axis=1)\n",
    "rej_mask = np.zeros(flatc.shape, dtype=np.bool)\n",
    "m2, sigma2 = loop_wins2(flatc.copy(), m, sigma, rej_mask)"
   ]
  },
  {
   "cell_type": "code",
   "execution_count": 12,
   "metadata": {},
   "outputs": [
    {
     "name": "stdout",
     "output_type": "stream",
     "text": [
      "2830997.5 2830997.5\n"
     ]
    }
   ],
   "source": [
    "print(m1.sum(), m2.sum())"
   ]
  },
  {
   "cell_type": "code",
   "execution_count": null,
   "metadata": {},
   "outputs": [],
   "source": [
    "def win_sigma_clip2(flatc, verbose=False):\n",
    "    # Make a 1st pass while there's no need to consider NaN-flagged arrays \n",
    "    # as median() and std() are faster than nanmedian() and nanstd(). \n",
    "\n",
    "    if verbose: print('flattened shape = ', flatc.shape)\n",
    "    rej_mask = np.zeros(flatc.shape, dtype=np.bool)\n",
    "    \n",
    "    m = np.median(flatc, axis=1)\n",
    "    sigma = np.std(flatc, axis=1)\n",
    "    # Winsorized sigma\n",
    "    m, sigma = loop_wins(flatc.copy(), m, sigma, rej_mask, verbose=verbose)\n",
    "    \n",
    "    mask = np.abs(flatc - m[:,np.newaxis]) > 5*sigma[:,np.newaxis]\n",
    "    n = mask.sum()\n",
    "    if n == 0:\n",
    "        return rej_mask\n",
    "    # Prepare new passes only on the rows that have outliers. \n",
    "    clip_rows = np.where(np.any(mask, axis=1))[0]\n",
    "    mask = mask[clip_rows, :]\n",
    "    rej_mask[clip_rows, :] = mask\n",
    "    if verbose: \n",
    "        print('Total outliers n =', n)\n",
    "        print('new shape = ', mask.shape)\n",
    "    while n > 0:\n",
    "        # Work only on the rows that have outliers. Flag them as NaN\n",
    "        flatc = flatc[clip_rows, :]\n",
    "        flatc[mask] = np.nan\n",
    "        m = np.nanmedian(flatc, axis=1)\n",
    "        sigma = np.nanstd(flatc, axis=1)\n",
    "        # Winsorized sigma\n",
    "        m, sigma = loop_wins(flatc.copy(), m, sigma, mask, verbose=verbose)\n",
    "        \n",
    "        mask = np.abs(flatc - m[:,np.newaxis]) > 5*sigma[:,np.newaxis]\n",
    "        clip_rows0 = clip_rows.copy()\n",
    "        clip_rows = np.where(np.any(mask, axis=1))[0]\n",
    "        mask = mask[clip_rows, :]\n",
    "        n = mask.sum()\n",
    "        if verbose: print('total outliers n =', n)\n",
    "        rej_mask[clip_rows0[clip_rows]] = rej_mask[clip_rows0[clip_rows]] | mask\n",
    "    \n",
    "    return rej_mask"
   ]
  },
  {
   "cell_type": "code",
   "execution_count": null,
   "metadata": {},
   "outputs": [],
   "source": [
    "data_slice = cube_slice.copy()"
   ]
  },
  {
   "cell_type": "code",
   "execution_count": null,
   "metadata": {},
   "outputs": [],
   "source": [
    "%%time\n",
    "sz = data_slice.shape\n",
    "rejmask1 = np.zeros(sz, dtype=np.bool)\n",
    "for r in range(sz[0]):\n",
    "    rejmask1[r,...] = win_sigma_clip2(data_slice[r,...], verbose=False)"
   ]
  },
  {
   "cell_type": "code",
   "execution_count": null,
   "metadata": {},
   "outputs": [],
   "source": [
    "rejmask.sum()"
   ]
  },
  {
   "cell_type": "code",
   "execution_count": null,
   "metadata": {},
   "outputs": [],
   "source": [
    "from multiprocessing import shared_memory\n",
    "def wins_wrapper(rows, shape, shared_name, verbose=False):\n",
    "    existing_shm = shared_memory.SharedMemory(name=shared_name)\n",
    "    shared_slice = np.ndarray(shape, dtype=np.float64, buffer=existing_shm.buf)\n",
    "    data_slice = shared_slice[rows[0]:rows[1], ...]\n",
    "    sz = data_slice.shape\n",
    "    rejmask = np.zeros(sz, dtype=np.bool)\n",
    "    for r in range(sz[0]):\n",
    "        rejmask[r, ...] = win_sigma_clip2(data_slice[r, ...], verbose=verbose)\n",
    "    return rejmask"
   ]
  },
  {
   "cell_type": "code",
   "execution_count": null,
   "metadata": {},
   "outputs": [],
   "source": [
    "\n",
    "def wins_sigma_par(datacube):\n",
    "\n",
    "    shm = shared_memory.SharedMemory(create=True, size=datacube.nbytes)\n",
    "    sh_cube_slice = np.ndarray(datacube.shape, dtype=datacube.dtype, buffer=shm.buf)\n",
    "    sh_cube_slice[:] = datacube[:]\n",
    "\n",
    "    nrows = datacube.shape[0]\n",
    "    nr = nrows / 6\n",
    "    r0 = np.arange(6) * nr\n",
    "    r1 = r0 + nr\n",
    "    rows = [[int(a), int(b)] for a, b in zip(r0, r1)]\n",
    "\n",
    "    wins_partial = partial(wins_wrapper, shape=datacube.shape, shared_name=shm.name, verbose=False)\n",
    "    rejmask_list = list(map(wins_partial, rows))\n",
    "    # print('starting parallel pool')\n",
    "\n",
    "    rejmask = np.array(rejmask_list).reshape(datacube.shape)\n",
    "\n",
    "    return rejmask"
   ]
  },
  {
   "cell_type": "code",
   "execution_count": null,
   "metadata": {},
   "outputs": [],
   "source": [
    "%time rejmask2 = wins_sigma_par(data_slice)"
   ]
  },
  {
   "cell_type": "markdown",
   "metadata": {},
   "source": [
    "6 cores - 416.48 seconds for the entire image series "
   ]
  },
  {
   "cell_type": "code",
   "execution_count": null,
   "metadata": {},
   "outputs": [],
   "source": []
  }
 ],
 "metadata": {
  "kernelspec": {
   "display_name": "Python 3",
   "language": "python",
   "name": "python3"
  },
  "language_info": {
   "codemirror_mode": {
    "name": "ipython",
    "version": 3
   },
   "file_extension": ".py",
   "mimetype": "text/x-python",
   "name": "python",
   "nbconvert_exporter": "python",
   "pygments_lexer": "ipython3",
   "version": "3.8.5"
  }
 },
 "nbformat": 4,
 "nbformat_minor": 4
}
