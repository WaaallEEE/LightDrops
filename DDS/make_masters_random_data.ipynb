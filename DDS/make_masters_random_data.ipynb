{
 "cells": [
  {
   "cell_type": "code",
   "execution_count": 36,
   "metadata": {},
   "outputs": [],
   "source": [
    "import numpy as np\n",
    "np.random.seed(123)\n",
    "\n",
    "def make_outliers(mean=1000, err=10, size=50):\n",
    "    # Create 1 stack of pixel with 10% outliers. \n",
    "    \n",
    "    std = np.sqrt(mean)\n",
    "    n_outliers = np.random.randint(0, int(size/10))\n",
    "    size -= n_outliers\n",
    "    random_err = err * np.random.normal(loc=mean, scale=std, size=size) * np.random.choice((-1, 1), size)\n",
    "    data = mean + random_err\n",
    "\n",
    "    outlier_int = 50 * mean\n",
    "    outlier_errs =  outlier_int * np.random.rand(n_outliers) * np.random.choice((-1, 1), n_outliers)\n",
    "    \n",
    "    data = np.concatenate((data, outlier_errs))\n",
    "    np.random.shuffle(data)\n",
    "\n",
    "    return data\n",
    "\n",
    "def cube_outliers(size=(128, 128, 50)):\n",
    "    # Make an image series with outliers with respect to the 3rd dimension. \n",
    "    cube = np.empty(size)\n",
    "    for r in range(size[0]):\n",
    "        for c in range(size[1]):\n",
    "            cube[r,c,:] = make_outliers(size=size[-1])\n",
    "    \n",
    "    return cube"
   ]
  },
  {
   "cell_type": "code",
   "execution_count": 37,
   "metadata": {},
   "outputs": [],
   "source": [
    "def sigma_clip(datacube):\n",
    "    rejMask = np.zeros(datacube.shape, dtype=np.bool)\n",
    "    n = 1\n",
    "    n_outliers = []\n",
    "    while n > 0:\n",
    "        rejMask0 = rejMask.copy()\n",
    "        med = np.nanmedian(datacube, axis=-1)\n",
    "        sigma = np.nanstd(datacube, axis=-1)\n",
    "        rejMask = (np.abs(datacube - med[...,np.newaxis]) > 5*sigma[...,np.newaxis])\n",
    "        n = rejMask.sum()\n",
    "        n_outliers.append(n)\n",
    "        print(n)\n",
    "        rejMask = rejMask0 | rejMask\n",
    "        datacube[rejMask] = np.nan\n",
    "    return rejMask, n_outliers"
   ]
  },
  {
   "cell_type": "code",
   "execution_count": 38,
   "metadata": {},
   "outputs": [],
   "source": [
    "images = cube_outliers(size=(1024, 1024, 100))"
   ]
  },
  {
   "cell_type": "code",
   "execution_count": 39,
   "metadata": {},
   "outputs": [
    {
     "name": "stdout",
     "output_type": "stream",
     "text": [
      "22526\n",
      "35\n",
      "0\n",
      "Wall time: 24.1 s\n"
     ]
    }
   ],
   "source": [
    "%time rej_mask1, n_outs1 = sigma_clip(images.copy())"
   ]
  },
  {
   "cell_type": "code",
   "execution_count": null,
   "metadata": {},
   "outputs": [],
   "source": [
    "print(n_outs1, sum(n_outs1))"
   ]
  },
  {
   "cell_type": "code",
   "execution_count": null,
   "metadata": {},
   "outputs": [],
   "source": [
    "%timeit images2 = images.copy()"
   ]
  },
  {
   "cell_type": "code",
   "execution_count": null,
   "metadata": {},
   "outputs": [],
   "source": [
    "rej_mask2 = np.empty(images.shape)"
   ]
  },
  {
   "cell_type": "code",
   "execution_count": null,
   "metadata": {},
   "outputs": [],
   "source": [
    "%%timeit\n",
    "images2 = images.copy()\n",
    "nout_rows = []\n",
    "for r in range(images.shape[0]):\n",
    "    rej_mask2[r, ...], nout_r = sigma_clip(images2[r,...]) \n",
    "    nout_rows.append(nout_r)"
   ]
  },
  {
   "cell_type": "code",
   "execution_count": null,
   "metadata": {},
   "outputs": [],
   "source": [
    "nloops = max([len(nouts) for nouts in nout_rows])\n",
    "nout_sum = sum([sum(nouts) for nouts in nout_rows])\n",
    "nloops_per_row = np.array([len(nouts) for nouts in nout_rows])"
   ]
  },
  {
   "cell_type": "code",
   "execution_count": null,
   "metadata": {},
   "outputs": [],
   "source": [
    "from collections import Counter\n",
    "Counter(nloops_per_row)"
   ]
  },
  {
   "cell_type": "code",
   "execution_count": null,
   "metadata": {},
   "outputs": [],
   "source": [
    "np.array_equal(rej_mask1, rej_mask)"
   ]
  },
  {
   "cell_type": "markdown",
   "metadata": {},
   "source": [
    "### New vectorized version"
   ]
  },
  {
   "cell_type": "code",
   "execution_count": 5,
   "metadata": {},
   "outputs": [],
   "source": [
    "cube = images.copy()"
   ]
  },
  {
   "cell_type": "code",
   "execution_count": null,
   "metadata": {},
   "outputs": [],
   "source": [
    "sz = cube.shape\n",
    "a = 5\n",
    "flatc = cube.reshape([sz[0]*sz[1], sz[2]])\n",
    "rej_mask3 = np.zeros(flatc.shape, dtype=np.bool)"
   ]
  },
  {
   "cell_type": "code",
   "execution_count": null,
   "metadata": {},
   "outputs": [],
   "source": [
    "%%time\n",
    "m = np.median(flatc, axis=1)\n",
    "sigma = np.std(flatc, axis=1)\n",
    "mask = np.abs(flatc - m[:,np.newaxis]) > a*sigma[:,np.newaxis]\n",
    "mask1d = np.any(mask, axis=1)\n",
    "clip_rows = np.where(mask1d)[0]\n",
    "l1.append(clip_rows)\n",
    "mask = mask[clip_rows, :]\n",
    "flatc = flatc[clip_rows, :]\n",
    "flatc[mask] = np.nan\n",
    "\n",
    "rej_mask3[clip_rows, :] = mask\n",
    "clip_rows0 = clip_rows.copy()"
   ]
  },
  {
   "cell_type": "code",
   "execution_count": null,
   "metadata": {},
   "outputs": [],
   "source": [
    "%%time\n",
    "n = mask.sum()\n",
    "print(n)\n",
    "while n > 0:\n",
    "    m = np.nanmedian(flatc, axis=1)\n",
    "    sigma = np.nanstd(flatc, axis=1)\n",
    "    mask = np.abs(flatc - m[:,np.newaxis]) > a*sigma[:,np.newaxis]\n",
    "    n = mask.sum()\n",
    "    print(n)\n",
    "    mask1d = np.any(mask, axis=1)\n",
    "    clip_rows = np.where(mask1d)[0]\n",
    "    mask = mask[clip_rows, :]\n",
    "    flatc = flatc[clip_rows, :]\n",
    "    flatc[mask] = np.nan\n",
    "    \n",
    "    rej_mask3[clip_rows0[clip_rows]] = rej_mask3[clip_rows0[clip_rows]] | mask\n",
    "    clip_rows0 = clip_rows.copy()"
   ]
  },
  {
   "cell_type": "code",
   "execution_count": null,
   "metadata": {},
   "outputs": [],
   "source": [
    "rej_mask3.sum()"
   ]
  },
  {
   "cell_type": "code",
   "execution_count": null,
   "metadata": {},
   "outputs": [],
   "source": [
    "rej_mask4 = rej_mask3.reshape(sz)"
   ]
  },
  {
   "cell_type": "code",
   "execution_count": 40,
   "metadata": {},
   "outputs": [],
   "source": [
    "def sigma_clip2(datacube):\n",
    "    # Make a 1st pass while there's no need to consider NaN-flagged arrays \n",
    "    # as median() and std() are faster than nanmedian() and nanstd(). \n",
    "    sz = datacube.shape\n",
    "    flatc = datacube.reshape([sz[0]*sz[1], sz[2]])\n",
    "    rej_mask = np.zeros(flatc.shape, dtype=np.bool)\n",
    "    \n",
    "    m = np.median(flatc, axis=1)\n",
    "    sigma = np.std(flatc, axis=1)\n",
    "    mask = np.abs(flatc - m[:,np.newaxis]) > 5*sigma[:,np.newaxis]\n",
    "    n = mask.sum()\n",
    "    if n == 0:\n",
    "        return rej_mask\n",
    "    # Prepare new passes only on the rows that have outliers. \n",
    "    clip_rows = np.where(np.any(mask, axis=1))[0]\n",
    "    clip_rows0 = clip_rows.copy()\n",
    "    mask = mask[clip_rows, :]\n",
    "    rej_mask[clip_rows, :] = mask\n",
    "    while n > 0:\n",
    "        # Work only on the rows that have outliers. Flag them as NaN      \n",
    "        flatc = flatc[clip_rows, :]\n",
    "        flatc[mask] = np.nan\n",
    "        m = np.nanmedian(flatc, axis=1)\n",
    "        sigma = np.nanstd(flatc, axis=1)\n",
    "        mask = np.abs(flatc - m[:,np.newaxis]) > 5*sigma[:,np.newaxis]\n",
    "        clip_rows = np.where(np.any(mask, axis=1))[0]\n",
    "        mask = mask[clip_rows, :]\n",
    "        n = mask.sum()\n",
    "        # Map back to original indices of the original array\n",
    "        clip_rows0 = clip_rows0[clip_rows]\n",
    "        rej_mask[clip_rows0] = rej_mask[clip_rows0] | mask     \n",
    "    \n",
    "    rej_mask = rej_mask.reshape(sz)\n",
    "    return rej_mask"
   ]
  },
  {
   "cell_type": "code",
   "execution_count": null,
   "metadata": {},
   "outputs": [],
   "source": [
    "images = cube_outliers(size=(256, 256, 100))"
   ]
  },
  {
   "cell_type": "code",
   "execution_count": 41,
   "metadata": {},
   "outputs": [],
   "source": [
    "cube = images.copy()"
   ]
  },
  {
   "cell_type": "code",
   "execution_count": 42,
   "metadata": {},
   "outputs": [
    {
     "name": "stdout",
     "output_type": "stream",
     "text": [
      "Wall time: 3.86 s\n"
     ]
    }
   ],
   "source": [
    "%time rej_mask3 = sigma_clip2(cube.copy())"
   ]
  },
  {
   "cell_type": "code",
   "execution_count": 23,
   "metadata": {},
   "outputs": [
    {
     "data": {
      "text/plain": [
       "True"
      ]
     },
     "execution_count": 23,
     "metadata": {},
     "output_type": "execute_result"
    }
   ],
   "source": [
    "np.array_equal(rej_mask1, rej_mask3)"
   ]
  },
  {
   "cell_type": "code",
   "execution_count": 156,
   "metadata": {},
   "outputs": [],
   "source": [
    "def loop_wins(images, med, sigma, rejMask, verbose=False):\n",
    "    \n",
    "    n1 = 1\n",
    "    qmask = np.ones(images.shape[0], dtype=np.bool)\n",
    "    while n1>0:\n",
    "        m0 = (med - 1.5*sigma)[:, np.newaxis]\n",
    "        m1 = (med + 1.5*sigma)[:, np.newaxis]\n",
    "        mask_min = images < m0\n",
    "        mask_max = images > m1\n",
    "        images[mask_min] = np.tile(m0, (1, images.shape[1]))[mask_min]\n",
    "        images[mask_max] = np.tile(m1, (1, images.shape[1]))[mask_max]\n",
    "        images[rejMask] = np.nan\n",
    "        sigma0 = sigma.copy()\n",
    "        # Apply pixel rejection mask before calculating new sigma\n",
    "        if np.isnan(images.sum()):\n",
    "            med = np.nanmedian(images, axis=1)\n",
    "            sigma[qmask] = 1.134*np.nanstd(images, axis=1)[qmask]\n",
    "        else:\n",
    "            med = np.median(images, axis=1)\n",
    "            sigma[qmask] = 1.134*np.std(images, axis=1)[qmask]\n",
    "        qmask = np.abs(sigma - sigma0)/sigma0 > 0.0005\n",
    "        n1 = qmask.sum()\n",
    "        if verbose: print('n1 = ', n1)\n",
    "    return med, sigma"
   ]
  },
  {
   "cell_type": "code",
   "execution_count": 110,
   "metadata": {},
   "outputs": [],
   "source": [
    "randimages = cube_outliers(size=(256, 256, 50))"
   ]
  },
  {
   "cell_type": "code",
   "execution_count": 111,
   "metadata": {},
   "outputs": [],
   "source": [
    "datacube = randimages.copy()\n",
    "sz = datacube.shape\n",
    "flatc = datacube.reshape([sz[0]*sz[1], sz[2]])\n",
    "rej_mask = np.zeros(flatc.shape, dtype=np.bool)\n",
    "\n",
    "med = np.median(flatc, axis=1)\n",
    "sigma = np.std(flatc, axis=1)"
   ]
  },
  {
   "cell_type": "code",
   "execution_count": 112,
   "metadata": {},
   "outputs": [
    {
     "name": "stdout",
     "output_type": "stream",
     "text": [
      "n1 =  65389\n",
      "n1 =  58401\n",
      "n1 =  58061\n",
      "n1 =  57321\n",
      "n1 =  55950\n",
      "n1 =  54120\n",
      "n1 =  51747\n",
      "n1 =  47717\n",
      "n1 =  41410\n",
      "n1 =  32987\n",
      "n1 =  23478\n",
      "n1 =  14701\n",
      "n1 =  8034\n",
      "n1 =  3941\n",
      "n1 =  1782\n",
      "n1 =  744\n",
      "n1 =  303\n",
      "n1 =  138\n",
      "n1 =  56\n",
      "n1 =  26\n",
      "n1 =  7\n",
      "n1 =  3\n",
      "n1 =  1\n",
      "n1 =  1\n",
      "n1 =  1\n",
      "n1 =  0\n"
     ]
    }
   ],
   "source": [
    "r = loop_wins(flatc, med, sigma, rej_mask)"
   ]
  },
  {
   "cell_type": "code",
   "execution_count": 157,
   "metadata": {},
   "outputs": [],
   "source": [
    "def win_sigma_clip(datacube, verbose=False):\n",
    "    # Make a 1st pass while there's no need to consider NaN-flagged arrays \n",
    "    # as median() and std() are faster than nanmedian() and nanstd(). \n",
    "    sz = datacube.shape\n",
    "    flatc = datacube.reshape([sz[0]*sz[1], sz[2]])\n",
    "    if verbose: print('flattened shape = ', flatc.shape)\n",
    "    rej_mask = np.zeros(flatc.shape, dtype=np.bool)\n",
    "    \n",
    "    m = np.median(flatc, axis=1)\n",
    "    sigma = np.std(flatc, axis=1)\n",
    "    # Winsorized sigma\n",
    "    m, sigma = loop_wins(flatc.copy(), m, sigma, rej_mask, verbose=verbose)\n",
    "    \n",
    "    mask = np.abs(flatc - m[:,np.newaxis]) > 5*sigma[:,np.newaxis]\n",
    "    n = mask.sum()\n",
    "    if n == 0:\n",
    "        return rej_mask\n",
    "    # Prepare new passes only on the rows that have outliers. \n",
    "    clip_rows = np.where(np.any(mask, axis=1))[0]\n",
    "    mask = mask[clip_rows, :]\n",
    "    rej_mask[clip_rows, :] = mask\n",
    "    if verbose: \n",
    "        print('Total outliers n =', n)\n",
    "        print('new shape = ', mask.shape)\n",
    "    while n > 0:\n",
    "        # Work only on the rows that have outliers. Flag them as NaN\n",
    "        flatc = flatc[clip_rows, :]\n",
    "        flatc[mask] = np.nan\n",
    "        m = np.nanmedian(flatc, axis=1)\n",
    "        sigma = np.nanstd(flatc, axis=1)\n",
    "        # Winsorized sigma\n",
    "        m, sigma = loop_wins(flatc.copy(), m, sigma, mask, verbose=verbose)\n",
    "        \n",
    "        mask = np.abs(flatc - m[:,np.newaxis]) > 5*sigma[:,np.newaxis]\n",
    "        clip_rows0 = clip_rows.copy()\n",
    "        clip_rows = np.where(np.any(mask, axis=1))[0]\n",
    "        mask = mask[clip_rows, :]\n",
    "        n = mask.sum()\n",
    "        if verbose: print('total outliers n =', n)\n",
    "        rej_mask[clip_rows0[clip_rows]] = rej_mask[clip_rows0[clip_rows]] | mask\n",
    "    \n",
    "    rej_mask = rej_mask.reshape(sz)\n",
    "    return rej_mask"
   ]
  },
  {
   "cell_type": "code",
   "execution_count": 134,
   "metadata": {},
   "outputs": [],
   "source": [
    "randimages = cube_outliers(size=(1024, 1024, 100))"
   ]
  },
  {
   "cell_type": "code",
   "execution_count": 133,
   "metadata": {},
   "outputs": [
    {
     "name": "stdout",
     "output_type": "stream",
     "text": [
      "Wall time: 10.5 s\n"
     ]
    }
   ],
   "source": [
    "%time rejmask = win_sigma_clip(randimages)"
   ]
  },
  {
   "cell_type": "code",
   "execution_count": 135,
   "metadata": {},
   "outputs": [
    {
     "name": "stdout",
     "output_type": "stream",
     "text": [
      "Wall time: 5min 8s\n"
     ]
    }
   ],
   "source": [
    "%time rejmask = win_sigma_clip(randimages)"
   ]
  },
  {
   "cell_type": "code",
   "execution_count": 136,
   "metadata": {},
   "outputs": [],
   "source": [
    "from astropy.io import fits\n",
    "from pathlib import Path\n",
    "import numpy as np\n",
    "import matplotlib.pyplot as plt\n",
    "import os\n",
    "cal_dir = Path(os.environ['DATA'], 'DDS', 'Taka', 'Calibration')\n",
    "str(cal_dir)\n",
    "\n",
    "def fitsread(f, header=False):\n",
    "    with fits.open(f) as hdul:\n",
    "        data = hdul[0].data\n",
    "        if header:\n",
    "            h = hdul[0].header\n",
    "            return data, h\n",
    "        else:\n",
    "            return data"
   ]
  },
  {
   "cell_type": "code",
   "execution_count": 161,
   "metadata": {},
   "outputs": [
    {
     "name": "stdout",
     "output_type": "stream",
     "text": [
      "200\n",
      "4524 3624\n",
      "4524 453\n"
     ]
    }
   ],
   "source": [
    "bias_dir = Path(cal_dir, 'Bias_bin1_Mar_2018')\n",
    "biasf = list(bias_dir.rglob('Bias*.fit'))\n",
    "print(len(biasf))\n",
    "d0, h0 = fitsread(biasf[0], header=True)\n",
    "nx = h0['NAXIS1']\n",
    "ny = h0['NAXIS2']\n",
    "ny2 = int(ny/8)\n",
    "print(nx,ny)\n",
    "print(nx, ny2)\n",
    "slice1 = np.s_[0:ny2, :]"
   ]
  },
  {
   "cell_type": "code",
   "execution_count": 162,
   "metadata": {},
   "outputs": [],
   "source": [
    "cube_slice = np.zeros([ny2, nx, len(biasf)])\n",
    "for i, f in enumerate(biasf):\n",
    "        im = fitsread(f)\n",
    "        cube_slice[...,i] = im[slice1]"
   ]
  },
  {
   "cell_type": "code",
   "execution_count": 163,
   "metadata": {},
   "outputs": [
    {
     "name": "stdout",
     "output_type": "stream",
     "text": [
      "flattened shape =  (2049372, 200)\n",
      "n1 =  2006372\n",
      "n1 =  987394\n",
      "n1 =  900995\n",
      "n1 =  702197\n",
      "n1 =  378680\n",
      "n1 =  110997\n",
      "n1 =  16417\n",
      "n1 =  1331\n",
      "n1 =  73\n",
      "n1 =  4\n",
      "n1 =  0\n",
      "Total outliers n = 1593\n",
      "new shape =  (1590, 200)\n",
      "n1 =  1561\n",
      "n1 =  1089\n",
      "n1 =  1036\n",
      "n1 =  872\n",
      "n1 =  571\n",
      "n1 =  256\n",
      "n1 =  53\n",
      "n1 =  9\n",
      "n1 =  1\n",
      "n1 =  0\n",
      "total outliers n = 1\n",
      "n1 =  1\n",
      "n1 =  1\n",
      "n1 =  1\n",
      "n1 =  1\n",
      "n1 =  1\n",
      "n1 =  0\n",
      "total outliers n = 0\n",
      "Wall time: 3min 16s\n"
     ]
    }
   ],
   "source": [
    "%time rejmask = win_sigma_clip(cube_slice.copy(), verbose=True)"
   ]
  },
  {
   "cell_type": "code",
   "execution_count": 164,
   "metadata": {},
   "outputs": [],
   "source": [
    "def win_sigma_clip2(flatc, verbose=False):\n",
    "    # Make a 1st pass while there's no need to consider NaN-flagged arrays \n",
    "    # as median() and std() are faster than nanmedian() and nanstd(). \n",
    "\n",
    "    if verbose: print('flattened shape = ', flatc.shape)\n",
    "    rej_mask = np.zeros(flatc.shape, dtype=np.bool)\n",
    "    \n",
    "    m = np.median(flatc, axis=1)\n",
    "    sigma = np.std(flatc, axis=1)\n",
    "    # Winsorized sigma\n",
    "    m, sigma = loop_wins(flatc.copy(), m, sigma, rej_mask, verbose=verbose)\n",
    "    \n",
    "    mask = np.abs(flatc - m[:,np.newaxis]) > 5*sigma[:,np.newaxis]\n",
    "    n = mask.sum()\n",
    "    if n == 0:\n",
    "        return rej_mask\n",
    "    # Prepare new passes only on the rows that have outliers. \n",
    "    clip_rows = np.where(np.any(mask, axis=1))[0]\n",
    "    mask = mask[clip_rows, :]\n",
    "    rej_mask[clip_rows, :] = mask\n",
    "    if verbose: \n",
    "        print('Total outliers n =', n)\n",
    "        print('new shape = ', mask.shape)\n",
    "    while n > 0:\n",
    "        # Work only on the rows that have outliers. Flag them as NaN\n",
    "        flatc = flatc[clip_rows, :]\n",
    "        flatc[mask] = np.nan\n",
    "        m = np.nanmedian(flatc, axis=1)\n",
    "        sigma = np.nanstd(flatc, axis=1)\n",
    "        # Winsorized sigma\n",
    "        m, sigma = loop_wins(flatc.copy(), m, sigma, mask, verbose=verbose)\n",
    "        \n",
    "        mask = np.abs(flatc - m[:,np.newaxis]) > 5*sigma[:,np.newaxis]\n",
    "        clip_rows0 = clip_rows.copy()\n",
    "        clip_rows = np.where(np.any(mask, axis=1))[0]\n",
    "        mask = mask[clip_rows, :]\n",
    "        n = mask.sum()\n",
    "        if verbose: print('total outliers n =', n)\n",
    "        rej_mask[clip_rows0[clip_rows]] = rej_mask[clip_rows0[clip_rows]] | mask\n",
    "    \n",
    "    return rej_mask"
   ]
  },
  {
   "cell_type": "code",
   "execution_count": 166,
   "metadata": {},
   "outputs": [
    {
     "data": {
      "text/plain": [
       "(453, 4524, 200)"
      ]
     },
     "execution_count": 166,
     "metadata": {},
     "output_type": "execute_result"
    }
   ],
   "source": [
    "sz = cube_slice.shape\n",
    "sz"
   ]
  },
  {
   "cell_type": "code",
   "execution_count": 170,
   "metadata": {},
   "outputs": [],
   "source": [
    "data_slice = cube_slice.copy()"
   ]
  },
  {
   "cell_type": "code",
   "execution_count": 171,
   "metadata": {},
   "outputs": [],
   "source": [
    "rejmask = np.zeros(sz, dtype=np.bool)"
   ]
  },
  {
   "cell_type": "code",
   "execution_count": 172,
   "metadata": {},
   "outputs": [
    {
     "name": "stdout",
     "output_type": "stream",
     "text": [
      "Wall time: 2min 26s\n"
     ]
    }
   ],
   "source": [
    "%%time\n",
    "for r in range(sz[0]):\n",
    "    rejmask[r,...] = win_sigma_clip2(data_slice[r,...], verbose=False)"
   ]
  },
  {
   "cell_type": "code",
   "execution_count": null,
   "metadata": {},
   "outputs": [],
   "source": []
  }
 ],
 "metadata": {
  "kernelspec": {
   "display_name": "Python 3",
   "language": "python",
   "name": "python3"
  },
  "language_info": {
   "codemirror_mode": {
    "name": "ipython",
    "version": 3
   },
   "file_extension": ".py",
   "mimetype": "text/x-python",
   "name": "python",
   "nbconvert_exporter": "python",
   "pygments_lexer": "ipython3",
   "version": "3.8.5"
  }
 },
 "nbformat": 4,
 "nbformat_minor": 4
}
