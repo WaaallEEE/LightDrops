{
 "cells": [
  {
   "cell_type": "code",
   "execution_count": 1,
   "metadata": {},
   "outputs": [],
   "source": [
    "import numpy as np\n",
    "\n",
    "def make_outliers(mean=1000, err=10, size=50):\n",
    "    # Create 1 stack of pixel with 10% outliers. \n",
    "    \n",
    "    std = np.sqrt(mean)\n",
    "    n_outliers = np.random.randint(0, int(size/10))\n",
    "    size -= n_outliers\n",
    "    random_err = err * np.random.normal(loc=mean, scale=std, size=size) * np.random.choice((-1, 1), size)\n",
    "    data = mean + random_err\n",
    "\n",
    "    outlier_int = 50 * mean\n",
    "    outlier_errs =  outlier_int * np.random.rand(n_outliers) * np.random.choice((-1, 1), n_outliers)\n",
    "    \n",
    "    data = np.concatenate((data, outlier_errs))\n",
    "    np.random.shuffle(data)\n",
    "\n",
    "    return data\n",
    "\n",
    "def cube_outliers(size=(128, 128, 50)):\n",
    "    # Make an image series with outliers with respect to the 3rd dimension. \n",
    "    cube = np.empty(size)\n",
    "    for r in range(size[0]):\n",
    "        for c in range(size[1]):\n",
    "            cube[r,c,:] = make_outliers(size=size[-1])\n",
    "    \n",
    "    return cube"
   ]
  },
  {
   "cell_type": "code",
   "execution_count": 2,
   "metadata": {},
   "outputs": [],
   "source": [
    "def sigma_clip(datacube):\n",
    "    rejMask = np.zeros(datacube.shape, dtype=np.bool)\n",
    "    n = 1\n",
    "    n_outliers = []\n",
    "    while n > 0:\n",
    "        rejMask0 = rejMask.copy()\n",
    "        med = np.nanmedian(datacube, axis=-1)\n",
    "        sigma = np.nanstd(datacube, axis=-1)\n",
    "        rejMask = (np.abs(datacube - med[...,np.newaxis]) > 5*sigma[...,np.newaxis])\n",
    "        n = rejMask.sum()\n",
    "        n_outliers.append(n)\n",
    "#         print(n)\n",
    "        rejMask = rejMask0 | rejMask\n",
    "        datacube[rejMask] = np.nan\n",
    "    return rejMask, n_outliers"
   ]
  },
  {
   "cell_type": "code",
   "execution_count": 3,
   "metadata": {},
   "outputs": [],
   "source": [
    "images = cube_outliers(size=(1024, 1024, 100))"
   ]
  },
  {
   "cell_type": "code",
   "execution_count": 5,
   "metadata": {},
   "outputs": [
    {
     "name": "stderr",
     "output_type": "stream",
     "text": [
      "C:\\Users\\attie\\miniconda3\\envs\\idp\\lib\\site-packages\\ipykernel_launcher.py:9: RuntimeWarning: invalid value encountered in greater\n",
      "  if __name__ == '__main__':\n"
     ]
    },
    {
     "name": "stdout",
     "output_type": "stream",
     "text": [
      "Wall time: 26.3 s\n"
     ]
    }
   ],
   "source": [
    "%time rej_mask1, n_outs1 = sigma_clip(images.copy())"
   ]
  },
  {
   "cell_type": "code",
   "execution_count": 7,
   "metadata": {},
   "outputs": [
    {
     "name": "stdout",
     "output_type": "stream",
     "text": [
      "[22440, 43, 0] 22483\n"
     ]
    }
   ],
   "source": [
    "print(n_outs1, sum(n_outs1))"
   ]
  },
  {
   "cell_type": "code",
   "execution_count": 8,
   "metadata": {},
   "outputs": [],
   "source": [
    "rej_mask2 = np.empty(images.shape)"
   ]
  },
  {
   "cell_type": "code",
   "execution_count": 10,
   "metadata": {},
   "outputs": [
    {
     "name": "stderr",
     "output_type": "stream",
     "text": [
      "C:\\Users\\attie\\miniconda3\\envs\\idp\\lib\\site-packages\\ipykernel_launcher.py:9: RuntimeWarning: invalid value encountered in greater\n",
      "  if __name__ == '__main__':\n"
     ]
    },
    {
     "name": "stdout",
     "output_type": "stream",
     "text": [
      "Wall time: 16.4 s\n"
     ]
    }
   ],
   "source": [
    "%%time\n",
    "images2 = images.copy()\n",
    "nout_rows = []\n",
    "for r in range(images.shape[0]):\n",
    "    rej_mask2[r, ...], nout_r = sigma_clip(images2[r,...]) \n",
    "    nout_rows.append(nout_r)"
   ]
  },
  {
   "cell_type": "code",
   "execution_count": 11,
   "metadata": {},
   "outputs": [],
   "source": [
    "nloops = max([len(nouts) for nouts in nout_rows])\n",
    "nout_sum = sum([sum(nouts) for nouts in nout_rows])\n",
    "nloops_per_row = np.array([len(nouts) for nouts in nout_rows])"
   ]
  },
  {
   "cell_type": "code",
   "execution_count": 12,
   "metadata": {},
   "outputs": [
    {
     "data": {
      "text/plain": [
       "Counter({2: 982, 3: 42})"
      ]
     },
     "execution_count": 12,
     "metadata": {},
     "output_type": "execute_result"
    }
   ],
   "source": [
    "from collections import Counter\n",
    "Counter(nloops_per_row)"
   ]
  },
  {
   "cell_type": "code",
   "execution_count": null,
   "metadata": {},
   "outputs": [],
   "source": [
    "np.array_equal(rej_mask1, rej_mask)"
   ]
  },
  {
   "cell_type": "code",
   "execution_count": null,
   "metadata": {},
   "outputs": [],
   "source": []
  }
 ],
 "metadata": {
  "kernelspec": {
   "display_name": "Python 3",
   "language": "python",
   "name": "python3"
  },
  "language_info": {
   "codemirror_mode": {
    "name": "ipython",
    "version": 3
   },
   "file_extension": ".py",
   "mimetype": "text/x-python",
   "name": "python",
   "nbconvert_exporter": "python",
   "pygments_lexer": "ipython3",
   "version": "3.7.9"
  }
 },
 "nbformat": 4,
 "nbformat_minor": 4
}
