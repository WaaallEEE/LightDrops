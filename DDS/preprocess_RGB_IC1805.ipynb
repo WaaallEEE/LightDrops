{
 "cells": [
  {
   "cell_type": "code",
   "execution_count": 14,
   "metadata": {},
   "outputs": [
    {
     "name": "stdout",
     "output_type": "stream",
     "text": [
      "True\n",
      "True\n",
      "True\n",
      "18 8 15\n"
     ]
    }
   ],
   "source": [
    "from astropy.io import fits\n",
    "from pathlib import Path\n",
    "import numpy as np\n",
    "import matplotlib.pyplot as plt\n",
    "# Detect image shift https://scikit-image.org/docs/dev/auto_examples/registration/plot_register_translation.html\n",
    "from skimage.registration import phase_cross_correlation\n",
    "# Shift the image\n",
    "from scipy.ndimage import shift\n",
    "import pandas as pd\n",
    "import os\n",
    "cal_dir = Path(os.environ['DATA'], 'DDS', 'Taka', 'Calibration')\n",
    "rgbdirs = [Path(os.environ['DATA'], 'DDS', 'Taka', 'Lights', 'IC_1805', c) for c in 'RGB']\n",
    "for cdir in rgbdirs: print(cdir.exists())\n",
    "rgbf = [sorted(rgbdir.rglob('*.fit')) for rgbdir in rgbdirs]\n",
    "print(len(rgbf[0]), len(rgbf[1]), len(rgbf[2]))\n",
    "\n",
    "def fitsread(f, header=False):\n",
    "    with fits.open(f) as hdul:\n",
    "        data = hdul[0].data\n",
    "        if header:\n",
    "            h = hdul[0].header\n",
    "            return data, h\n",
    "        else:\n",
    "            return data"
   ]
  },
  {
   "cell_type": "code",
   "execution_count": 21,
   "metadata": {},
   "outputs": [],
   "source": [
    "# Masters\n",
    "dark300f = Path(cal_dir, 'masterDark300_bin2_median_Jan_2019.fits')\n",
    "dark600f = Path(cal_dir, 'masterDark600_bin1_median_Jan_2019.fits')\n",
    "\n",
    "RFlatf = Path(cal_dir, 'masterRFlat_bin2_Jan_26_2019.fits')\n",
    "GFlatf = Path(cal_dir, 'masterGFlat_bin2_Feb_3_2019.fits')\n",
    "BFlatf = Path(cal_dir, 'masterBFlat_bin2_Feb_4_2019.fits')\n",
    "\n",
    "mDark = fitsread(dark300f)"
   ]
  },
  {
   "cell_type": "markdown",
   "metadata": {},
   "source": [
    "# RED"
   ]
  },
  {
   "cell_type": "code",
   "execution_count": 24,
   "metadata": {},
   "outputs": [],
   "source": [
    "# Load flat field\n",
    "cFlat = fitsread(RFlatf)"
   ]
  },
  {
   "cell_type": "code",
   "execution_count": 19,
   "metadata": {},
   "outputs": [],
   "source": [
    "clights = np.array([fitsread(f) for f in rgbf[0]])"
   ]
  },
  {
   "cell_type": "code",
   "execution_count": 23,
   "metadata": {},
   "outputs": [],
   "source": [
    "cCal1 = clights - mDark\n",
    "cCal1[cCal1 < 0] = 0"
   ]
  },
  {
   "cell_type": "code",
   "execution_count": 25,
   "metadata": {},
   "outputs": [],
   "source": [
    "cCal2 = cCal1 / cFlat"
   ]
  },
  {
   "cell_type": "code",
   "execution_count": 26,
   "metadata": {},
   "outputs": [
    {
     "name": "stdout",
     "output_type": "stream",
     "text": [
      "35218.82377664365\n"
     ]
    }
   ],
   "source": [
    "scale = np.median(cCal1) / np.median(cCal2)\n",
    "print(scale)"
   ]
  },
  {
   "cell_type": "code",
   "execution_count": null,
   "metadata": {},
   "outputs": [],
   "source": [
    "Hregdir = Path(lights_dir, 'H', 'registered')\n",
    "Hregdir.mkdir(parents=False, exist_ok=True)\n",
    "\n",
    "fov = np.s_[1000:1000+1024, 1000:1000+1024]\n",
    "ref = HCal2[int(len(Hf)/2)][fov]\n",
    "\n",
    "imshifts = []\n",
    "for i, f in enumerate(Hf):\n",
    "    image = HCal2[i][fov]\n",
    "    imshift, _, _ = phase_cross_correlation(ref, image, upsample_factor=10)\n",
    "    imshifts.append(imshift)\n",
    "    if (imshift[0]==0) & (imshift[1]==0):\n",
    "        print(f'no shift at file {f}')\n",
    "        image2 = HCal2[i].copy()*scale\n",
    "    else:\n",
    "        image2 = shift(HCal2[i], imshift)*scale\n",
    "    \n",
    "    fits.writeto(Path(Hregdir, f'{f.stem}.reg.fits'), image2.astype(np.float32), overwrite=True)"
   ]
  },
  {
   "cell_type": "code",
   "execution_count": null,
   "metadata": {},
   "outputs": [],
   "source": [
    "Hregf = sorted(Hregdir.rglob('*.reg.fits'))\n",
    "len(Hregf)"
   ]
  },
  {
   "cell_type": "code",
   "execution_count": null,
   "metadata": {},
   "outputs": [],
   "source": [
    "Hreg = np.array([fitsread(f) for f in Hregf])"
   ]
  },
  {
   "cell_type": "code",
   "execution_count": null,
   "metadata": {},
   "outputs": [],
   "source": [
    "Hstackmed = np.median(Hreg, axis=0)"
   ]
  },
  {
   "cell_type": "code",
   "execution_count": null,
   "metadata": {},
   "outputs": [],
   "source": [
    "fits.writeto(Path(lights_dir, 'stacked', 'Hstackmed.fits'), Hstackmed.astype(np.float32), overwrite=True)"
   ]
  },
  {
   "cell_type": "code",
   "execution_count": null,
   "metadata": {},
   "outputs": [],
   "source": [
    "plt.figure(figsize=(20,13))\n",
    "plt.imshow(Hstackmed, vmin=np.percentile(Hstackmed, 0.1), vmax=np.percentile(Hstackmed, 99.9), origin='lower', cmap='gray')\n",
    "plt.tick_params(\n",
    "    axis='both',        \n",
    "    which='both',      # both major and minor ticks are affected\n",
    "    bottom=False,      # ticks along the bottom edge are off\n",
    "    top=False,         # ticks along the top edge are off\n",
    "    labelbottom=False,\n",
    "    left=False,\n",
    "    labelleft=False) \n",
    "plt.tight_layout()\n",
    "plt.savefig('Hstackmed2.jpg')"
   ]
  },
  {
   "cell_type": "code",
   "execution_count": null,
   "metadata": {},
   "outputs": [],
   "source": []
  }
 ],
 "metadata": {
  "kernelspec": {
   "display_name": "Python 3",
   "language": "python",
   "name": "python3"
  },
  "language_info": {
   "codemirror_mode": {
    "name": "ipython",
    "version": 3
   },
   "file_extension": ".py",
   "mimetype": "text/x-python",
   "name": "python",
   "nbconvert_exporter": "python",
   "pygments_lexer": "ipython3",
   "version": "3.8.5"
  }
 },
 "nbformat": 4,
 "nbformat_minor": 4
}
