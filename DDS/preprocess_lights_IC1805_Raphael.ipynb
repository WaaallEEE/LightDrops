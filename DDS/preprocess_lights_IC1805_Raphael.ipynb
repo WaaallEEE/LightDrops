{
 "cells": [
  {
   "cell_type": "code",
   "execution_count": 39,
   "metadata": {},
   "outputs": [],
   "source": [
    "from astropy.io import fits\n",
    "from astropy.stats import biweight_midvariance as bwmv\n",
    "from astropy.stats import median_absolute_deviation as mad\n",
    "import astroalign as aa\n",
    "import cv2\n",
    "from pathlib import Path\n",
    "import numpy as np\n",
    "import matplotlib.pyplot as plt\n",
    "import matplotlib.colors as colors\n",
    "from skimage.registration import phase_cross_correlation\n",
    "# Shift the image\n",
    "from scipy.ndimage import shift\n",
    "import pandas as pd\n",
    "import os\n",
    "\n",
    "def fitsread(f, header=False):\n",
    "    with fits.open(f) as hdul:\n",
    "        data = hdul[0].data\n",
    "        if header:\n",
    "            h = hdul[0].header\n",
    "            return data, h\n",
    "        else:\n",
    "            return data\n",
    "        \n",
    "def rescale(image, mref, sref, roi=None):\n",
    "    imageV = image if roi is None else image[roi]\n",
    "    m1 = np.median(imageV)\n",
    "#     s1 = np.sqrt(bwmv(imageV))\n",
    "    s1 = mad(imageV)\n",
    "    ki = sref/s1\n",
    "    rimage = ki*(image - m1) + mref\n",
    "    return rimage\n",
    "\n",
    "IMAX = 65535"
   ]
  },
  {
   "cell_type": "code",
   "execution_count": 2,
   "metadata": {},
   "outputs": [
    {
     "name": "stdout",
     "output_type": "stream",
     "text": [
      "C:\\Data\\DDS\\Taka\\Calibration True\n"
     ]
    }
   ],
   "source": [
    "# Masters\n",
    "cal_dir = Path(os.environ['DATA'], 'DDS', 'Taka', 'Calibration')\n",
    "dark600f = Path(cal_dir, 'masterDark600_bin1_average_Jan_2019.fits')\n",
    "HFlatf = Path(cal_dir, 'masterHFlat_bin1_Mar_3_2019.fits')\n",
    "print(str(cal_dir), cal_dir.exists())\n",
    "# Load master files - Dark is not Bias-subtracted, but Master flat is bias-subtracted. \n",
    "Dark = fitsread(dark600f)\n",
    "HFlat = fitsread(HFlatf)"
   ]
  },
  {
   "cell_type": "code",
   "execution_count": 3,
   "metadata": {},
   "outputs": [
    {
     "name": "stdout",
     "output_type": "stream",
     "text": [
      "C:\\Data\\DDS\\Taka\\Lights\\IC_1805\\H True\n",
      "number of lights:  73\n"
     ]
    }
   ],
   "source": [
    "# Lights\n",
    "lights_dir = Path(os.environ['DATA'], 'DDS', 'Taka', 'Lights', 'IC_1805')\n",
    "Hlights_dir = Path(lights_dir, 'H')\n",
    "print(str(Hlights_dir), Hlights_dir.exists())\n",
    "Hlightsf = sorted(Hlights_dir.rglob('H*.fit'))\n",
    "print('number of lights: ', len(Hlightsf))\n",
    "# Load 1st image to get reference statistics\n",
    "im0 = fitsread(Hlightsf[0]) - Dark\n",
    "# image size\n",
    "sz = im0.shape\n",
    "\n",
    "fov1 = np.s_[1500:1500+512, 2000:2000+512]\n",
    "fov2 = np.s_[0:256, 0:256]\n",
    "fov3 = np.s_[-256:, -256:]"
   ]
  },
  {
   "cell_type": "code",
   "execution_count": 38,
   "metadata": {},
   "outputs": [
    {
     "data": {
      "text/plain": [
       "(0.0009082852, 0.9897744)"
      ]
     },
     "execution_count": 38,
     "metadata": {},
     "output_type": "execute_result"
    }
   ],
   "source": [
    "Dark_s = fitsread(Path(cal_dir, 'CCD_Souhayl/masterDARK_BIN1_600s_-25deg.fit'))\n",
    "Dark_s.min(), Dark_s.max()"
   ]
  },
  {
   "cell_type": "code",
   "execution_count": 4,
   "metadata": {},
   "outputs": [],
   "source": [
    "d = fitsread(Hlights_dir/'H_IC 1805_600s.06001.fit')"
   ]
  },
  {
   "cell_type": "code",
   "execution_count": 5,
   "metadata": {},
   "outputs": [
    {
     "data": {
      "text/plain": [
       "692.0"
      ]
     },
     "execution_count": 5,
     "metadata": {},
     "output_type": "execute_result"
    }
   ],
   "source": [
    "np.median(d)"
   ]
  },
  {
   "cell_type": "markdown",
   "metadata": {},
   "source": [
    "### Load selected files upon rejection from above jpeg previews (and optionally Maxselector)"
   ]
  },
  {
   "cell_type": "code",
   "execution_count": 22,
   "metadata": {},
   "outputs": [
    {
     "name": "stdout",
     "output_type": "stream",
     "text": [
      "index of rejected file index:  ['06028', '06029', '06058', '06059', '06060', '06061', '06063', '06064', '06066', '06067', '06068', '06069', '06070', '06072', '06073', '06074', '06076', '06077', '06081', '06082', '06083', '06095', '06096', '06097', '06103', '06105', '06106', '06107', '06108']\n",
      "Nb of selected files:  43\n",
      "43\n"
     ]
    },
    {
     "data": {
      "text/plain": [
       "[WindowsPath('C:/Data/DDS/Taka/Lights/IC_1805/H/H_IC 1805_600s.06001.fit'),\n",
       " WindowsPath('C:/Data/DDS/Taka/Lights/IC_1805/H/H_IC 1805_600s.06002.fit'),\n",
       " WindowsPath('C:/Data/DDS/Taka/Lights/IC_1805/H/H_IC 1805_600s.06003.fit'),\n",
       " WindowsPath('C:/Data/DDS/Taka/Lights/IC_1805/H/H_IC 1805_600s.06004.fit'),\n",
       " WindowsPath('C:/Data/DDS/Taka/Lights/IC_1805/H/H_IC 1805_600s.06005.fit'),\n",
       " WindowsPath('C:/Data/DDS/Taka/Lights/IC_1805/H/H_IC 1805_600s.06006.fit'),\n",
       " WindowsPath('C:/Data/DDS/Taka/Lights/IC_1805/H/H_IC 1805_600s.06007.fit'),\n",
       " WindowsPath('C:/Data/DDS/Taka/Lights/IC_1805/H/H_IC 1805_600s.06008.fit'),\n",
       " WindowsPath('C:/Data/DDS/Taka/Lights/IC_1805/H/H_IC 1805_600s.06009.fit'),\n",
       " WindowsPath('C:/Data/DDS/Taka/Lights/IC_1805/H/H_IC 1805_600s.06010.fit'),\n",
       " WindowsPath('C:/Data/DDS/Taka/Lights/IC_1805/H/H_IC 1805_600s.06011.fit'),\n",
       " WindowsPath('C:/Data/DDS/Taka/Lights/IC_1805/H/H_IC 1805_600s.06012.fit'),\n",
       " WindowsPath('C:/Data/DDS/Taka/Lights/IC_1805/H/H_IC 1805_600s.06013.fit'),\n",
       " WindowsPath('C:/Data/DDS/Taka/Lights/IC_1805/H/H_IC 1805_600s.06014.fit'),\n",
       " WindowsPath('C:/Data/DDS/Taka/Lights/IC_1805/H/H_IC 1805_600s.06015.fit'),\n",
       " WindowsPath('C:/Data/DDS/Taka/Lights/IC_1805/H/H_IC 1805_600s.06027.fit'),\n",
       " WindowsPath('C:/Data/DDS/Taka/Lights/IC_1805/H/H_IC 1805_600s.06030.fit'),\n",
       " WindowsPath('C:/Data/DDS/Taka/Lights/IC_1805/H/H_IC 1805_600s.06031.fit'),\n",
       " WindowsPath('C:/Data/DDS/Taka/Lights/IC_1805/H/H_IC 1805_600s.06032.fit'),\n",
       " WindowsPath('C:/Data/DDS/Taka/Lights/IC_1805/H/H_IC 1805_600s.06033.fit'),\n",
       " WindowsPath('C:/Data/DDS/Taka/Lights/IC_1805/H/H_IC 1805_600s.06034.fit'),\n",
       " WindowsPath('C:/Data/DDS/Taka/Lights/IC_1805/H/H_IC 1805_600s.06035.fit'),\n",
       " WindowsPath('C:/Data/DDS/Taka/Lights/IC_1805/H/H_IC 1805_600s.06036.fit'),\n",
       " WindowsPath('C:/Data/DDS/Taka/Lights/IC_1805/H/H_IC 1805_600s.06037.fit'),\n",
       " WindowsPath('C:/Data/DDS/Taka/Lights/IC_1805/H/H_IC 1805_600s.06038.fit'),\n",
       " WindowsPath('C:/Data/DDS/Taka/Lights/IC_1805/H/H_IC 1805_600s.06039.fit'),\n",
       " WindowsPath('C:/Data/DDS/Taka/Lights/IC_1805/H/H_IC 1805_600s.06040.fit'),\n",
       " WindowsPath('C:/Data/DDS/Taka/Lights/IC_1805/H/H_IC 1805_600s.06041.fit'),\n",
       " WindowsPath('C:/Data/DDS/Taka/Lights/IC_1805/H/H_IC 1805_600s.06042.fit'),\n",
       " WindowsPath('C:/Data/DDS/Taka/Lights/IC_1805/H/H_IC 1805_600s.06043.fit'),\n",
       " WindowsPath('C:/Data/DDS/Taka/Lights/IC_1805/H/H_IC 1805_600s.06044.fit'),\n",
       " WindowsPath('C:/Data/DDS/Taka/Lights/IC_1805/H/H_IC 1805_600s.06045.fit'),\n",
       " WindowsPath('C:/Data/DDS/Taka/Lights/IC_1805/H/H_IC 1805_600s.06046.fit'),\n",
       " WindowsPath('C:/Data/DDS/Taka/Lights/IC_1805/H/H_IC 1805_600s.06062.fit'),\n",
       " WindowsPath('C:/Data/DDS/Taka/Lights/IC_1805/H/H_IC 1805_600s.06065.fit'),\n",
       " WindowsPath('C:/Data/DDS/Taka/Lights/IC_1805/H/H_IC 1805_600s.06075.fit'),\n",
       " WindowsPath('C:/Data/DDS/Taka/Lights/IC_1805/H/H_IC 1805_600s.06078.fit'),\n",
       " WindowsPath('C:/Data/DDS/Taka/Lights/IC_1805/H/H_IC 1805_600s.06079.fit'),\n",
       " WindowsPath('C:/Data/DDS/Taka/Lights/IC_1805/H/H_IC 1805_600s.06080.fit'),\n",
       " WindowsPath('C:/Data/DDS/Taka/Lights/IC_1805/H/H_IC 1805_600s.06098.fit'),\n",
       " WindowsPath('C:/Data/DDS/Taka/Lights/IC_1805/H/H_IC 1805_600s.06099.fit'),\n",
       " WindowsPath('C:/Data/DDS/Taka/Lights/IC_1805/H/H_IC 1805_600s.06101.fit'),\n",
       " WindowsPath('C:/Data/DDS/Taka/Lights/IC_1805/H/H_IC 1805_600s.06102.fit')]"
      ]
     },
     "execution_count": 22,
     "metadata": {},
     "output_type": "execute_result"
    }
   ],
   "source": [
    "Hlightsf = sorted(Hlights_dir.glob('H*.fit'))\n",
    "selectf = Path(Hlights_dir, 'selection_raphael.txt')\n",
    "with open(selectf) as file: lines = [line.rstrip('\\n') for line in file]\n",
    "print('index of rejected file index: ', lines)\n",
    "print('Nb of selected files: ', len(Hlightsf) - len(lines))\n",
    "Hf = [f for f in Hlightsf if not any(x in str(f) for x in lines)]\n",
    "print(len(Hf))\n",
    "Hf"
   ]
  },
  {
   "cell_type": "code",
   "execution_count": 23,
   "metadata": {},
   "outputs": [],
   "source": [
    "# Load lights from curated list\n",
    "HLights = np.array([fitsread(f) for f in Hf])"
   ]
  },
  {
   "cell_type": "code",
   "execution_count": 24,
   "metadata": {},
   "outputs": [],
   "source": [
    "HCal1 = HLights - Dark"
   ]
  },
  {
   "cell_type": "code",
   "execution_count": 25,
   "metadata": {},
   "outputs": [],
   "source": [
    "# Flat Field and bring back to pre-Flat-field equivalent histograms\n",
    "HCal2 = (HCal1 / HFlat).astype(np.float32)"
   ]
  },
  {
   "cell_type": "code",
   "execution_count": 26,
   "metadata": {},
   "outputs": [],
   "source": [
    "Hcaldir = Path(Hlights_dir, 'calibrated')\n",
    "Hcaldir.mkdir(parents=False, exist_ok=True)\n",
    "# Export calibrated files to FITS files\n",
    "for i, f in enumerate(Hf):\n",
    "    fits.writeto(Path(Hcaldir, f'cal.{f.stem}.fits'), HCal2[i].astype(np.float32), overwrite=True)"
   ]
  },
  {
   "cell_type": "code",
   "execution_count": 18,
   "metadata": {},
   "outputs": [
    {
     "ename": "MaxIterError",
     "evalue": "Max iterations exceeded while trying to find acceptable transformation.",
     "output_type": "error",
     "traceback": [
      "\u001b[1;31m---------------------------------------------------------------------------\u001b[0m",
      "\u001b[1;31mMaxIterError\u001b[0m                              Traceback (most recent call last)",
      "\u001b[1;32m<ipython-input-18-7905b5b93a58>\u001b[0m in \u001b[0;36m<module>\u001b[1;34m\u001b[0m\n\u001b[0;32m     17\u001b[0m     \u001b[0mimage2\u001b[0m \u001b[1;33m=\u001b[0m \u001b[0mrescale\u001b[0m\u001b[1;33m(\u001b[0m\u001b[0mimage2\u001b[0m\u001b[1;33m,\u001b[0m \u001b[0mmref\u001b[0m\u001b[1;33m,\u001b[0m \u001b[0msref\u001b[0m\u001b[1;33m)\u001b[0m\u001b[1;33m\u001b[0m\u001b[1;33m\u001b[0m\u001b[0m\n\u001b[0;32m     18\u001b[0m \u001b[1;33m\u001b[0m\u001b[0m\n\u001b[1;32m---> 19\u001b[1;33m     \u001b[0mp\u001b[0m\u001b[1;33m,\u001b[0m \u001b[1;33m(\u001b[0m\u001b[0mpos_img\u001b[0m\u001b[1;33m,\u001b[0m \u001b[0mpos_img_rot\u001b[0m\u001b[1;33m)\u001b[0m \u001b[1;33m=\u001b[0m \u001b[0maa\u001b[0m\u001b[1;33m.\u001b[0m\u001b[0mfind_transform\u001b[0m\u001b[1;33m(\u001b[0m\u001b[0mimage2\u001b[0m\u001b[1;33m,\u001b[0m \u001b[0mref\u001b[0m\u001b[1;33m)\u001b[0m\u001b[1;33m\u001b[0m\u001b[1;33m\u001b[0m\u001b[0m\n\u001b[0m\u001b[0;32m     20\u001b[0m     \u001b[0mimage2\u001b[0m \u001b[1;33m=\u001b[0m \u001b[0mcv2\u001b[0m\u001b[1;33m.\u001b[0m\u001b[0mwarpPerspective\u001b[0m\u001b[1;33m(\u001b[0m\u001b[0mimage2\u001b[0m\u001b[1;33m,\u001b[0m \u001b[0mp\u001b[0m\u001b[1;33m.\u001b[0m\u001b[0mparams\u001b[0m\u001b[1;33m,\u001b[0m \u001b[1;33m(\u001b[0m\u001b[0msz\u001b[0m\u001b[1;33m[\u001b[0m\u001b[1;36m1\u001b[0m\u001b[1;33m]\u001b[0m\u001b[1;33m,\u001b[0m\u001b[0msz\u001b[0m\u001b[1;33m[\u001b[0m\u001b[1;36m0\u001b[0m\u001b[1;33m]\u001b[0m\u001b[1;33m)\u001b[0m\u001b[1;33m,\u001b[0m \u001b[0mflags\u001b[0m\u001b[1;33m=\u001b[0m\u001b[0mcv2\u001b[0m\u001b[1;33m.\u001b[0m\u001b[0mINTER_LANCZOS4\u001b[0m\u001b[1;33m)\u001b[0m\u001b[1;33m;\u001b[0m\u001b[1;33m\u001b[0m\u001b[1;33m\u001b[0m\u001b[0m\n\u001b[0;32m     21\u001b[0m     \u001b[0mfits\u001b[0m\u001b[1;33m.\u001b[0m\u001b[0mwriteto\u001b[0m\u001b[1;33m(\u001b[0m\u001b[0mPath\u001b[0m\u001b[1;33m(\u001b[0m\u001b[0mHregdir\u001b[0m\u001b[1;33m,\u001b[0m \u001b[1;34mf'reg.{f.stem}.fits'\u001b[0m\u001b[1;33m)\u001b[0m\u001b[1;33m,\u001b[0m \u001b[0mimage2\u001b[0m\u001b[1;33m.\u001b[0m\u001b[0mastype\u001b[0m\u001b[1;33m(\u001b[0m\u001b[0mnp\u001b[0m\u001b[1;33m.\u001b[0m\u001b[0mfloat32\u001b[0m\u001b[1;33m)\u001b[0m\u001b[1;33m,\u001b[0m \u001b[0moverwrite\u001b[0m\u001b[1;33m=\u001b[0m\u001b[1;32mTrue\u001b[0m\u001b[1;33m)\u001b[0m\u001b[1;33m\u001b[0m\u001b[1;33m\u001b[0m\u001b[0m\n",
      "\u001b[1;32m~\\miniconda3\\lib\\site-packages\\astroalign.py\u001b[0m in \u001b[0;36mfind_transform\u001b[1;34m(source, target, max_control_points, detection_sigma, min_area)\u001b[0m\n\u001b[0;32m    334\u001b[0m         \u001b[0minlier_ind\u001b[0m \u001b[1;33m=\u001b[0m \u001b[0m_np\u001b[0m\u001b[1;33m.\u001b[0m\u001b[0marange\u001b[0m\u001b[1;33m(\u001b[0m\u001b[0mlen\u001b[0m\u001b[1;33m(\u001b[0m\u001b[0mmatches\u001b[0m\u001b[1;33m)\u001b[0m\u001b[1;33m)\u001b[0m  \u001b[1;31m# All of the indices\u001b[0m\u001b[1;33m\u001b[0m\u001b[1;33m\u001b[0m\u001b[0m\n\u001b[0;32m    335\u001b[0m     \u001b[1;32melse\u001b[0m\u001b[1;33m:\u001b[0m\u001b[1;33m\u001b[0m\u001b[1;33m\u001b[0m\u001b[0m\n\u001b[1;32m--> 336\u001b[1;33m         best_t, inlier_ind = _ransac(\n\u001b[0m\u001b[0;32m    337\u001b[0m             \u001b[0mmatches\u001b[0m\u001b[1;33m,\u001b[0m \u001b[0minv_model\u001b[0m\u001b[1;33m,\u001b[0m \u001b[1;36m1\u001b[0m\u001b[1;33m,\u001b[0m \u001b[0mmax_iter\u001b[0m\u001b[1;33m,\u001b[0m \u001b[0mPIXEL_TOL\u001b[0m\u001b[1;33m,\u001b[0m \u001b[0mmin_matches\u001b[0m\u001b[1;33m\u001b[0m\u001b[1;33m\u001b[0m\u001b[0m\n\u001b[0;32m    338\u001b[0m         )\n",
      "\u001b[1;32m~\\miniconda3\\lib\\site-packages\\astroalign.py\u001b[0m in \u001b[0;36m_ransac\u001b[1;34m(data, model, min_data_points, max_iter, thresh, min_matches)\u001b[0m\n\u001b[0;32m    571\u001b[0m         \u001b[0miterations\u001b[0m \u001b[1;33m+=\u001b[0m \u001b[1;36m1\u001b[0m\u001b[1;33m\u001b[0m\u001b[1;33m\u001b[0m\u001b[0m\n\u001b[0;32m    572\u001b[0m     \u001b[1;32mif\u001b[0m \u001b[0mbestfit\u001b[0m \u001b[1;32mis\u001b[0m \u001b[1;32mNone\u001b[0m\u001b[1;33m:\u001b[0m\u001b[1;33m\u001b[0m\u001b[1;33m\u001b[0m\u001b[0m\n\u001b[1;32m--> 573\u001b[1;33m         raise MaxIterError(\n\u001b[0m\u001b[0;32m    574\u001b[0m             \u001b[1;34m\"Max iterations exceeded while trying to find \"\u001b[0m\u001b[1;33m\u001b[0m\u001b[1;33m\u001b[0m\u001b[0m\n\u001b[0;32m    575\u001b[0m             \u001b[1;34m\"acceptable transformation.\"\u001b[0m\u001b[1;33m\u001b[0m\u001b[1;33m\u001b[0m\u001b[0m\n",
      "\u001b[1;31mMaxIterError\u001b[0m: Max iterations exceeded while trying to find acceptable transformation."
     ]
    }
   ],
   "source": [
    "Hregdir = Path(Hlights_dir, 'registered')\n",
    "Hregdir.mkdir(parents=False, exist_ok=True)\n",
    "Path(Hregdir, 'jpegs').mkdir(parents=False, exist_ok=True)\n",
    "\n",
    "# Rescale the reference image\n",
    "mref = np.median(HCal1[0])\n",
    "# sref = np.sqrt(bwmv(HCal1[0]))\n",
    "sref = mad(HCal1[0])\n",
    "ref = rescale(HCal1[0], mref, sref)\n",
    "\n",
    "vmin = np.percentile(HCal2[0], 0.1)\n",
    "vmax = np.percentile(HCal2[0], 99.8)\n",
    "for i, f in enumerate(Hf[0:]):\n",
    "    \n",
    "    image2 = HCal2[i]\n",
    "    \n",
    "    image2 = rescale(image2, mref, sref)\n",
    "    \n",
    "    p, (pos_img, pos_img_rot) = aa.find_transform(image2, ref)\n",
    "    image2 = cv2.warpPerspective(image2, p.params, (sz[1],sz[0]), flags=cv2.INTER_LANCZOS4);\n",
    "    fits.writeto(Path(Hregdir, f'reg.{f.stem}.fits'), image2.astype(np.float32), overwrite=True)\n",
    "    \n",
    "    fig, axs = plt.subplots(nrows=1, ncols=3, figsize=(30, 10))\n",
    "    axs[0].imshow(image2[fov1], vmin=vmin, vmax=vmax, cmap='gray')\n",
    "    axs[1].imshow(image2[fov2], vmin=vmin, vmax=vmax, cmap='gray')\n",
    "    axs[2].imshow(image2[fov3], vmin=vmin, vmax=vmax, cmap='gray')\n",
    "    axs[0].axis('off')\n",
    "    axs[1].axis('off')\n",
    "    axs[2].axis('off')\n",
    "    plt.tight_layout()\n",
    "    plt.savefig(Path(Hregdir, 'jpegs', f'{f.stem}.reg.aa.jpg'))\n",
    "    plt.close()"
   ]
  },
  {
   "cell_type": "code",
   "execution_count": 27,
   "metadata": {},
   "outputs": [
    {
     "data": {
      "text/plain": [
       "43"
      ]
     },
     "execution_count": 27,
     "metadata": {},
     "output_type": "execute_result"
    }
   ],
   "source": [
    "Hregf = sorted(Hregdir.rglob('reg*.fits'))\n",
    "len(Hregf)"
   ]
  },
  {
   "cell_type": "code",
   "execution_count": 28,
   "metadata": {},
   "outputs": [],
   "source": [
    "Hreg = np.array([fitsread(f) for f in Hregf])"
   ]
  },
  {
   "cell_type": "code",
   "execution_count": 29,
   "metadata": {},
   "outputs": [],
   "source": [
    "Hstack_median = np.median(Hreg, axis=0)\n",
    "Hstack_avg = Hreg.mean(axis=0)"
   ]
  },
  {
   "cell_type": "code",
   "execution_count": 30,
   "metadata": {},
   "outputs": [],
   "source": [
    "Hstack_median = Hstack_median / Hstack_median.max()\n",
    "Hstack_median[Hstack_median <0]=0\n",
    "Hstack_avg = Hstack_avg / Hstack_avg.max()\n",
    "Hstack_avg[Hstack_avg<0] = 0"
   ]
  },
  {
   "cell_type": "code",
   "execution_count": 32,
   "metadata": {},
   "outputs": [],
   "source": [
    "fits.writeto(Path(Hlights_dir, 'stacked', 'Hstack_median_Raphael_mad_D.fits'), Hstack_median.astype(np.float32), overwrite=True)\n",
    "fits.writeto(Path(Hlights_dir, 'stacked', 'Hstack_avg_Raphael_mad_D.fits'), Hstack_avg.astype(np.float32), overwrite=True)\n",
    "H16 = np.uint16(np.round(Hstack_avg*IMAX))\n",
    "fits.writeto(Path(Hlights_dir, 'stacked', 'Hstack_avg_Raphael_mad_D_uint16.fits'), H16, overwrite=True)"
   ]
  },
  {
   "cell_type": "code",
   "execution_count": 33,
   "metadata": {},
   "outputs": [],
   "source": [
    "madH = mad(Hreg, axis=0)\n",
    "mask = np.abs(Hreg - Hstack_median) < 6*madH\n",
    "mHreg = np.ma.masked_array(Hreg, mask=~mask)\n",
    "mHstack2 = mHreg.mean(axis=0).filled(0)\n",
    "\n",
    "mHstack2 = mHstack2 / mHstack2.max()\n",
    "mHstack2[mHstack2<0] = 0\n",
    "fits.writeto(Path(Hlights_dir, 'stacked', 'Hstack_mad_avg_rej_6mad_Raphael.fits'), mHstack2.astype(np.float32), overwrite=True)"
   ]
  },
  {
   "cell_type": "code",
   "execution_count": null,
   "metadata": {},
   "outputs": [],
   "source": [
    "# mHstack2_med = np.ma.median(mHreg, axis=0).filled(0)\n",
    "# mHstack2_med = mHstack2_med / mHstack2_med.max()\n",
    "# mHstack2_med[mHstack2_med<0] = 0\n",
    "# fits.writeto(Path(Hlights_dir, 'stacked', 'Hstack_mad_median_rej_mad_Raphael.fits'), mHstack2_med.astype(np.float32), overwrite=True)"
   ]
  },
  {
   "cell_type": "code",
   "execution_count": 34,
   "metadata": {},
   "outputs": [],
   "source": [
    "pid = fitsread(Path(Hlights_dir, 'stacked', 'H_IC_1805_stacked_PI.fit'))\n",
    "mpid = np.median(pid)\n",
    "spid = mad(pid)\n",
    "Havg = rescale(Hstack_avg, mpid, spid)"
   ]
  },
  {
   "cell_type": "code",
   "execution_count": 35,
   "metadata": {},
   "outputs": [
    {
     "data": {
      "text/plain": [
       "(0.0, 1.0)"
      ]
     },
     "execution_count": 35,
     "metadata": {},
     "output_type": "execute_result"
    }
   ],
   "source": [
    "pid.min(), pid.max()"
   ]
  }
 ],
 "metadata": {
  "kernelspec": {
   "display_name": "Python 3",
   "language": "python",
   "name": "python3"
  },
  "language_info": {
   "codemirror_mode": {
    "name": "ipython",
    "version": 3
   },
   "file_extension": ".py",
   "mimetype": "text/x-python",
   "name": "python",
   "nbconvert_exporter": "python",
   "pygments_lexer": "ipython3",
   "version": "3.8.5"
  }
 },
 "nbformat": 4,
 "nbformat_minor": 4
}
