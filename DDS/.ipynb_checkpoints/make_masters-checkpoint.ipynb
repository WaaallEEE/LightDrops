{
 "cells": [
  {
   "cell_type": "code",
   "execution_count": 2,
   "metadata": {},
   "outputs": [],
   "source": [
    "from astropy.io import fits\n",
    "from pathlib import Path\n",
    "import numpy as np\n",
    "import matplotlib.pyplot as plt\n",
    "import os\n",
    "cal_dir = Path(os.environ['DATA'], 'DDS', 'Taka', 'Calibration')\n",
    "str(cal_dir)\n",
    "\n",
    "def fitsread(f, header=False):\n",
    "    with fits.open(f) as hdul:\n",
    "        data = hdul[0].data\n",
    "        if header:\n",
    "            h = hdul[0].header\n",
    "            return data, h\n",
    "        else:\n",
    "            return data"
   ]
  },
  {
   "cell_type": "markdown",
   "metadata": {},
   "source": [
    "# Bias"
   ]
  },
  {
   "cell_type": "code",
   "execution_count": 8,
   "metadata": {},
   "outputs": [
    {
     "name": "stdout",
     "output_type": "stream",
     "text": [
      "200\n"
     ]
    }
   ],
   "source": [
    "bias_dir = Path(cal_dir, 'Bias_bin1_Mar_2018')\n",
    "biasf = list(bias_dir.rglob('Bias*.fit'))\n",
    "print(len(biasf))\n",
    "d0, h0 = fitsread(biasf[0], header=True)\n",
    "nx = h0['NAXIS1']\n",
    "ny = h0['NAXIS2']\n",
    "nx2 = int(nx/2)\n",
    "ny2 = int(ny/2)"
   ]
  },
  {
   "cell_type": "code",
   "execution_count": 12,
   "metadata": {},
   "outputs": [],
   "source": [
    "mbias_bin1 = np.zeros([ny, nx])\n",
    "imquad = np.zeros([len(biasf), ny2, nx2])\n",
    "q1 = np.s_[0:ny2, 0:nx2]\n",
    "q2 = np.s_[0:ny2, nx2:]\n",
    "q3 = np.s_[ny2:, 0:nx2]\n",
    "q4 = np.s_[ny2:, nx2:]\n",
    "\n",
    "q1234 = [q1, q2, q3, q4]\n",
    "\n",
    "for quad in q1234:\n",
    "    for i, f in enumerate(biasf):\n",
    "            im = fitsread(f)\n",
    "            imquad[i, ...] = im[quad]\n",
    "    medquad = np.median(imquad, axis=0)\n",
    "    mbias_bin1[quad] = medquad"
   ]
  },
  {
   "cell_type": "code",
   "execution_count": 14,
   "metadata": {},
   "outputs": [
    {
     "name": "stdout",
     "output_type": "stream",
     "text": [
      "(3624, 4524)\n"
     ]
    }
   ],
   "source": [
    "fits.writeto(Path(cal_dir, 'masterBias_bin1_median_Mars_2018.fits'), mbias.astype(np.float32), overwrite=True)\n",
    "print(mbias.shape)"
   ]
  },
  {
   "cell_type": "code",
   "execution_count": 15,
   "metadata": {},
   "outputs": [],
   "source": [
    "del imquad"
   ]
  },
  {
   "cell_type": "code",
   "execution_count": 16,
   "metadata": {},
   "outputs": [
    {
     "name": "stdout",
     "output_type": "stream",
     "text": [
      "200\n"
     ]
    }
   ],
   "source": [
    "bias_dir = Path(cal_dir, 'Bias_bin2_Nov_2018')\n",
    "biasf = list(bias_dir.rglob('Bias*.fit'))\n",
    "print(len(biasf))\n",
    "    \n",
    "biases = np.array([fitsread(f) for f in biasf])\n",
    "        \n",
    "mbias_bin2 = np.median(biases, axis=0)"
   ]
  },
  {
   "cell_type": "code",
   "execution_count": 17,
   "metadata": {},
   "outputs": [
    {
     "name": "stdout",
     "output_type": "stream",
     "text": [
      "(1812, 2262)\n"
     ]
    }
   ],
   "source": [
    "fits.writeto(Path(cal_dir, 'masterBias_bin2_median_Nov_2018.fits'), mbias_bin2.astype(np.float32), overwrite=True)\n",
    "print(mbias_bin2.shape)"
   ]
  },
  {
   "cell_type": "code",
   "execution_count": 18,
   "metadata": {},
   "outputs": [],
   "source": [
    "del biases"
   ]
  },
  {
   "cell_type": "markdown",
   "metadata": {},
   "source": [
    "# Darks"
   ]
  },
  {
   "cell_type": "code",
   "execution_count": 19,
   "metadata": {},
   "outputs": [
    {
     "data": {
      "text/plain": [
       "(50, 50)"
      ]
     },
     "execution_count": 19,
     "metadata": {},
     "output_type": "execute_result"
    }
   ],
   "source": [
    "dark_dir = Path(cal_dir, 'Darks_Jan_2019')\n",
    "darkf600 = list(dark_dir.rglob('*600s*.fit'))\n",
    "darkf300 = list(dark_dir.rglob('*300s*.fit'))\n",
    "len(darkf600), len(darkf300)"
   ]
  },
  {
   "cell_type": "code",
   "execution_count": 20,
   "metadata": {},
   "outputs": [],
   "source": [
    "darks600 = np.array([fitsread(f) for f in darkf600])\n",
    "mdark600 = np.median(darks600, axis=0)"
   ]
  },
  {
   "cell_type": "code",
   "execution_count": 21,
   "metadata": {},
   "outputs": [],
   "source": [
    "fits.writeto(Path(cal_dir, 'masterDark600_bin1_median_Jan_2019.fits'), mdark600.astype(np.float32))"
   ]
  },
  {
   "cell_type": "code",
   "execution_count": 22,
   "metadata": {},
   "outputs": [],
   "source": [
    "darks300 = np.array([fitsread(f) for f in darkf300])\n",
    "mdark300 = np.median(darks300, axis=0)"
   ]
  },
  {
   "cell_type": "code",
   "execution_count": 24,
   "metadata": {},
   "outputs": [],
   "source": [
    "fits.writeto(Path(cal_dir, 'masterDark300_bin2_median_Jan_2019.fits'), mdark300.astype(np.float32))"
   ]
  },
  {
   "cell_type": "markdown",
   "metadata": {},
   "source": [
    "# Flats"
   ]
  },
  {
   "cell_type": "code",
   "execution_count": 26,
   "metadata": {},
   "outputs": [
    {
     "data": {
      "text/plain": [
       "(11, 17, 11, 11)"
      ]
     },
     "execution_count": 26,
     "metadata": {},
     "output_type": "execute_result"
    }
   ],
   "source": [
    "flats_dir = Path(cal_dir, 'Flats')\n",
    "rflatsf = list(flats_dir.rglob('RFlat_Jan_26_2019/RFlat*.fit'))\n",
    "gflatsf = list(flats_dir.rglob('GFlat_Feb_3_2019/GFlat*.fit'))\n",
    "bflatsf = list(flats_dir.rglob('BFlat_Feb_4_2019/BFlat*.fit'))\n",
    "hflatsf = list(flats_dir.rglob('Hflat_Mar_3_2019/HFlat*.fit'))\n",
    "rgbflatsf = [rflatsf, gflatsf, bflatsf]\n",
    "len(rflatsf), len(gflatsf), len(bflatsf), len(hflatsf)"
   ]
  },
  {
   "cell_type": "code",
   "execution_count": null,
   "metadata": {},
   "outputs": [],
   "source": [
    "masterRGBFlats = []\n",
    "for xflatsf in rgbflatsf:\n",
    "    \n",
    "    with fits.open(xflatsf[0]) as hdul:\n",
    "        nx = hdul[0].header['NAXIS1']\n",
    "        ny = hdul[0].header['NAXIS2']\n",
    "\n",
    "    masterXFlat = np.zeros([len(xflatsf), ny, nx])\n",
    "    for i, f in enumerate(xflatsf):\n",
    "        with fits.open(f) as hdul:\n",
    "            masterXFlat[i,...] = hdul[0].data - mbias_bin2\n",
    "            \n",
    "    masterXFlat = np.median(masterXFlat, axis=0)\n",
    "    masterRGBFlats.append(masterXFlat)"
   ]
  },
  {
   "cell_type": "code",
   "execution_count": null,
   "metadata": {},
   "outputs": [],
   "source": [
    "with fits.open(hflatsf[0]) as hdul:\n",
    "    nx = hdul[0].header['NAXIS1']\n",
    "    ny = hdul[0].header['NAXIS2']\n",
    "\n",
    "masterHFlat = np.zeros([len(hflatsf), ny, nx])\n",
    "for i, f in enumerate(hflatsf):\n",
    "    with fits.open(f) as hdul:\n",
    "        masterHFlat[i, ...] = hdul[0].data - mbias_bin1\n",
    "\n",
    "masterHFlat = np.median(masterHFlat, axis=0)"
   ]
  },
  {
   "cell_type": "code",
   "execution_count": null,
   "metadata": {},
   "outputs": [],
   "source": [
    "fits.writeto(Path(cal_dir, 'masterRFlat_bin2_Jan_26_2019.fits'), masterRGBFlats[0], overwrite=True)\n",
    "fits.writeto(Path(cal_dir, 'masterGFlat_bin2_Feb_3_2019.fits'), masterRGBFlats[1], overwrite=True)\n",
    "fits.writeto(Path(cal_dir, 'masterBFlat_bin2_Feb_4_2019.fits'), masterRGBFlats[2], overwrite=True)\n",
    "fits.writeto(Path(cal_dir, 'masterHFlat_bin1_Mar_3_2019.fits'), masterHFlat, overwrite=True)"
   ]
  },
  {
   "cell_type": "code",
   "execution_count": null,
   "metadata": {},
   "outputs": [],
   "source": []
  }
 ],
 "metadata": {
  "kernelspec": {
   "display_name": "Python 3",
   "language": "python",
   "name": "python3"
  },
  "language_info": {
   "codemirror_mode": {
    "name": "ipython",
    "version": 3
   },
   "file_extension": ".py",
   "mimetype": "text/x-python",
   "name": "python",
   "nbconvert_exporter": "python",
   "pygments_lexer": "ipython3",
   "version": "3.8.5"
  }
 },
 "nbformat": 4,
 "nbformat_minor": 4
}
