{
 "cells": [
  {
   "cell_type": "code",
   "execution_count": 1,
   "metadata": {},
   "outputs": [],
   "source": [
    "from astropy.io import fits\n",
    "from pathlib import Path\n",
    "import numpy as np\n",
    "import matplotlib.pyplot as plt\n",
    "import os\n",
    "cal_dir = Path(os.environ['DATA'], 'DDS', 'Taka', 'Calibration')\n",
    "str(cal_dir)\n",
    "\n",
    "def fitsread(f, header=False):\n",
    "    with fits.open(f) as hdul:\n",
    "        data = hdul[0].data\n",
    "        if header:\n",
    "            h = hdul[0].header\n",
    "            return data, h\n",
    "        else:\n",
    "            return data\n",
    "        \n",
    "def rescale(image, mref, sref, roi=None):\n",
    "    imageV = image if roi is None else image[roi]\n",
    "    m1 = np.median(imageV)\n",
    "    s1 = mad(imageV)\n",
    "    ki = sref/s1\n",
    "    rimage = ki*(image - m1) + mref\n",
    "    return rimage\n",
    "\n",
    "\n",
    "def loopSigmaClip(images, rej_mask):\n",
    "    imquad2 = np.ma.masked_array(images, mask=rej_mask.copy())\n",
    "    medquad2 = np.ma.median(imquad2, axis=0)\n",
    "        \n",
    "    sigma = imquad2.std(axis=0)\n",
    "    rej_mask = (np.abs(imquad2 - medquad2) > 5*sigma)\n",
    "    return rej_mask\n",
    "\n",
    "\n",
    "def sigmaClip(images):\n",
    "    rejMask = np.zeros(images.shape, dtype=np.bool)\n",
    "    n = 1\n",
    "    while n > 0:\n",
    "        rejMask0 = rejMask.copy()\n",
    "        rejMask = loopSigmaClip(images, rejMask)\n",
    "        n = rejMask.sum()\n",
    "        print(n)\n",
    "        rejMask = rejMask0 | rejMask.filled(False)\n",
    "\n",
    "    return rejMask\n",
    "\n",
    "\n",
    "def loopWinSigmaClipping(images, med, sigma, rejMask, qmask=None):\n",
    "    \n",
    "    m0 = med - 1.5*sigma\n",
    "    m1 = med + 1.5*sigma\n",
    "    mask_min = images < m0\n",
    "    mask_max = images > m1\n",
    "    images[mask_min] = np.tile(m0, (images.shape[0],1,1))[mask_min]\n",
    "    images[mask_max] = np.tile(m1, (images.shape[0],1,1))[mask_max]\n",
    "    sigma0 = sigma.copy()\n",
    "    \n",
    "    images = np.ma.masked_array(images.copy(), mask=rejMask.copy())\n",
    "    med = np.ma.median(images, axis=0).filled(0)\n",
    "        \n",
    "    # Apply pixel rejection mask before calculating new sigma\n",
    "    if qmask is not None:\n",
    "        sigma[qmask] = 1.134*images.std(axis=0)[qmask]\n",
    "    else:\n",
    "        sigma = 1.134*images.std(axis=0)\n",
    "    qmask = np.abs(sigma - sigma0)/sigma0 > 0.0005\n",
    "    return qmask, sigma, med\n",
    "\n",
    "\n",
    "def winsorizedSigmaClipping(images, verbose=False):\n",
    "    \n",
    "    rejMask = np.zeros(images.shape, dtype=np.bool)\n",
    "    n = 1\n",
    "    while n > 0:\n",
    "        print('starting outer loop')\n",
    "        images_ma = np.ma.masked_array(images.copy(), mask=rejMask)\n",
    "        m = np.ma.median(images_ma, axis=0).filled()\n",
    "        sigma = images_ma.std(axis=0).filled()\n",
    "        t = images.copy()\n",
    "\n",
    "        n1 = 1\n",
    "        qmask = None\n",
    "        print('starting inner loop')\n",
    "        while n1>0:\n",
    "            qmask, sigma, m = loopWinSigmaClipping(t, m, sigma, rejMask, qmask=qmask)\n",
    "            n1 = qmask.sum()\n",
    "            if verbose: print(f'loop n1={n1}')\n",
    "        print('finished winsorized loop')\n",
    "        rejMask0 = rejMask.copy()\n",
    "        rejMask = np.abs(images_ma - m) > 5*sigma \n",
    "        n = rejMask.sum()\n",
    "        print('n = ', n)\n",
    "        rejMask = rejMask0 | rejMask.filled(False)\n",
    "        \n",
    "    return rejMask"
   ]
  },
  {
   "cell_type": "markdown",
   "metadata": {},
   "source": [
    "# Bias"
   ]
  },
  {
   "cell_type": "code",
   "execution_count": 4,
   "metadata": {},
   "outputs": [
    {
     "name": "stdout",
     "output_type": "stream",
     "text": [
      "200\n",
      "4524 3624\n",
      "2262 1812\n"
     ]
    }
   ],
   "source": [
    "bias_dir = Path(cal_dir, 'Bias_bin1_Mar_2018')\n",
    "biasf = list(bias_dir.rglob('Bias*.fit'))\n",
    "print(len(biasf))\n",
    "d0, h0 = fitsread(biasf[0], header=True)\n",
    "nx = h0['NAXIS1']\n",
    "ny = h0['NAXIS2']\n",
    "nx2 = int(nx/2)\n",
    "ny2 = int(ny/2)\n",
    "print(nx,ny)\n",
    "print(nx2, ny2)"
   ]
  },
  {
   "cell_type": "code",
   "execution_count": null,
   "metadata": {},
   "outputs": [],
   "source": [
    "q1 = np.s_[0:ny2, 0:nx2]\n",
    "q2 = np.s_[0:ny2, nx2:]\n",
    "q3 = np.s_[ny2:, 0:nx2]\n",
    "q4 = np.s_[ny2:, nx2:]"
   ]
  },
  {
   "cell_type": "code",
   "execution_count": null,
   "metadata": {},
   "outputs": [],
   "source": [
    "mbias_mean = np.zeros([ny, nx])\n",
    "mbias_median = np.zeros([ny, nx])\n",
    "mbias_sc = np.zeros([ny, nx])\n",
    "mbias_wsc = np.zeros([ny, nx])\n",
    "\n",
    "# q1 = np.s_[0:512, 0:512]\n",
    "imquad = np.zeros([len(biasf), ny2, nx2])\n",
    "for quad in [q1, q2, q3, q4]:\n",
    "# for quad in [q1,]:\n",
    "    for i, f in enumerate(biasf):\n",
    "            im = fitsread(f)\n",
    "            imquad[i] = im[quad]\n",
    "            \n",
    "#     # Artithmetic mean\n",
    "#     mbias_mean[quad] = np.float32(imquad.mean(axis=0))\n",
    "#     # Median\n",
    "#     mbias_median[quad] = np.float32(np.median(imquad, axis=0))\n",
    "#     # Sigma Clipping\n",
    "#     rejMask = sigmaClip(imquad)\n",
    "#     print('rejected pixels (sigma clipping) n=', rejMask.sum())  \n",
    "#     imquad_ma = np.ma.masked_array(imquad, mask=rejMask)\n",
    "#     mbias_sc[quad] = np.float32(imquad_ma.mean(axis=0).filled(0))\n",
    "    # Winsorized Sigma Clipping\n",
    "    rejMask = winsorizedSigmaClipping(imquad, verbose=True)\n",
    "    print('rejected pixels (winsorized sigma clipping) n=', rejMask.sum())    \n",
    "    imquad_ma = np.ma.masked_array(imquad, mask=rejMask)\n",
    "    mbias_wsc[quad] = np.float32(imquad_ma.mean(axis=0).filled(0))\n",
    "    \n",
    "\n",
    "# fits.writeto(Path(cal_dir, 'mBias_bin1_mean_Mars_2018.fits'), mbias_mean, overwrite=True)\n",
    "# fits.writeto(Path(cal_dir, 'mBias_bin1_median_Mars_2018.fits'), mbias_median, overwrite=True)\n",
    "# fits.writeto(Path(cal_dir, 'mBias_bin1_sc_Mars_2018.fits'), mbias_sc, overwrite=True)\n",
    "fits.writeto(Path(cal_dir, 'mBias_bin1_wsc_Mars_2018.fits'), mbias_wsc, overwrite=True)"
   ]
  },
  {
   "cell_type": "code",
   "execution_count": null,
   "metadata": {},
   "outputs": [],
   "source": [
    "q1 = np.s_[0:1024, 0:1024]\n",
    "imquad = np.zeros([len(biasf[0:100]), 1024, 1024])\n",
    "\n",
    "for i, f in enumerate(biasf[0:50]):\n",
    "        im = fitsread(f)\n",
    "        imquad[i] = im[q1]"
   ]
  },
  {
   "cell_type": "code",
   "execution_count": null,
   "metadata": {},
   "outputs": [],
   "source": [
    "def sigmaClip2(images):\n",
    "    rejMask = np.zeros(images.shape, dtype=np.bool)\n",
    "    n = 1\n",
    "    while n > 0:\n",
    "        rejMask0 = rejMask.copy()\n",
    "        med = np.nanmedian(images, axis=0)\n",
    "        sigma = np.nanstd(images, axis=0)\n",
    "        rejMask = (np.abs(images - med) > 5*sigma)\n",
    "        n = rejMask.sum()\n",
    "#         print(n)\n",
    "        rejMask = rejMask0 | rejMask\n",
    "        images[rejMask] = np.nan\n",
    "\n",
    "    return rejMask"
   ]
  },
  {
   "cell_type": "code",
   "execution_count": null,
   "metadata": {},
   "outputs": [],
   "source": [
    "%%time\n",
    "# Sigma Clipping\n",
    "rejMask = sigmaClip(imquad.copy())\n",
    "# print('rejected pixels n=', rejMask.sum())  \n",
    "# imquad_ma = np.ma.masked_array(imquad, mask=rejMask)\n",
    "# mBiasQ = imquad_ma.mean(axis=0).filled(0)"
   ]
  },
  {
   "cell_type": "code",
   "execution_count": null,
   "metadata": {},
   "outputs": [],
   "source": [
    "%%time\n",
    "rejMask1 = sigmaClip2(imquad.copy())"
   ]
  },
  {
   "cell_type": "code",
   "execution_count": null,
   "metadata": {},
   "outputs": [],
   "source": [
    "imquad2 = imquad.copy()\n",
    "rejMask2 = np.zeros([100, 1024, 1024], dtype=np.bool)"
   ]
  },
  {
   "cell_type": "code",
   "execution_count": null,
   "metadata": {},
   "outputs": [],
   "source": [
    "%%timeit\n",
    "imquad2 = imquad.copy()\n",
    "for r in range(1024):\n",
    "    rejMask2[:,r,:] = sigmaClip2(imquad2[:,r,:])"
   ]
  },
  {
   "cell_type": "code",
   "execution_count": null,
   "metadata": {},
   "outputs": [],
   "source": [
    "%%timeit\n",
    "imquad2 = imquad.copy()\n",
    "rejMask = np.array([sigmaClip2(imquad2[:,r,:]) for r in range(1024)])"
   ]
  },
  {
   "cell_type": "code",
   "execution_count": null,
   "metadata": {},
   "outputs": [],
   "source": [
    "imquad3 = np.zeros([1024, 1024, len(biasf[0:100])])\n",
    "\n",
    "for i, f in enumerate(biasf[0:50]):\n",
    "        im = fitsread(f)\n",
    "        imquad3[..., i] = im[q1]"
   ]
  },
  {
   "cell_type": "code",
   "execution_count": null,
   "metadata": {},
   "outputs": [],
   "source": [
    "def sigmaClip3(images):\n",
    "    rejMask = np.zeros(images.shape, dtype=np.bool)\n",
    "    n_outliers = []\n",
    "    n = 1\n",
    "    while n > 0:\n",
    "        rejMask0 = rejMask.copy()\n",
    "        med = np.nanmedian(images, axis=-1)\n",
    "        sigma = np.nanstd(images, axis=-1)\n",
    "        rejMask = (np.abs(images - med[...,np.newaxis]) > 5*sigma[...,np.newaxis])\n",
    "        n = rejMask.sum()\n",
    "        n_outliers.append(n)\n",
    "#         print(n)\n",
    "        rejMask = rejMask0 | rejMask\n",
    "        images[rejMask] = np.nan\n",
    "\n",
    "    return rejMask, n_outliers"
   ]
  },
  {
   "cell_type": "code",
   "execution_count": null,
   "metadata": {},
   "outputs": [],
   "source": [
    "%%time\n",
    "rejMask3, nout = sigmaClip3(imquad3.copy())"
   ]
  },
  {
   "cell_type": "code",
   "execution_count": null,
   "metadata": {},
   "outputs": [],
   "source": [
    "print(nout)"
   ]
  },
  {
   "cell_type": "code",
   "execution_count": null,
   "metadata": {},
   "outputs": [],
   "source": [
    "d = sigmaClip3(imquad4[1,:,:])"
   ]
  },
  {
   "cell_type": "code",
   "execution_count": null,
   "metadata": {},
   "outputs": [],
   "source": [
    "imquad4 = imquad3.copy()\n",
    "rejMask4, nout = np.array([sigmaClip3(imquad4[r,:,:]) for r in range(1024)])"
   ]
  },
  {
   "cell_type": "code",
   "execution_count": null,
   "metadata": {},
   "outputs": [],
   "source": [
    "%%timeit\n",
    "imquad4 = imquad3.copy()\n",
    "rejMask4 = np.array([sigmaClip3(imquad4[r,:,:]) for r in range(1024)])"
   ]
  },
  {
   "cell_type": "code",
   "execution_count": null,
   "metadata": {},
   "outputs": [],
   "source": [
    "%%time\n",
    "for r in range(1024):\n",
    "    rejMask4[r,:,:] = sigmaClip3(imquad4[r,:,:])"
   ]
  },
  {
   "cell_type": "code",
   "execution_count": null,
   "metadata": {},
   "outputs": [],
   "source": [
    "plt.rcParams[\"font.family\"] = \"Times New Roman\"\n",
    "plt.rcParams[\"font.size\"] = 16\n",
    "\n",
    "vmin, vmax = np.percentile(avgquad, 0.01), np.percentile(avgquad, 99)\n",
    "fig, axs = plt.subplots(nrows=1, ncols=2, figsize=(20,10))\n",
    "axs[0].imshow(avgquad, vmin=vmin, vmax=vmax, cmap='gray')\n",
    "axs[1].imshow(mBiasQ, vmin=vmin, vmax=vmax, cmap='gray')\n",
    "#axs[0].axis('off'), axs[1].axis('off')\n",
    "plt.tight_layout()\n",
    "axs[0].set_title('Master Bias: Arithmetic mean')\n",
    "axs[0].text(50, 280, f'min = {avgquad.min():.2f} \\nmax = {avgquad.max():.2f} \\nmean = {avgquad.mean():.2f} \\nsigma = {avgquad.max():.2f}', color='black',\n",
    "           bbox=dict(facecolor='none', edgecolor='black', boxstyle='round'))\n",
    "axs[1].set_title(f'Master Bias: Sigma clipping - pixels rejected = {rejMask.sum()}')\n",
    "axs[1].text(50, 280, f'min = {mBiasQ.min():.2f} \\nmax = {mBiasQ.max():.2f} \\nmean = {mBiasQ.mean():.2f} \\nsigma = {mBiasQ.max():.2f}', color='black',\n",
    "           bbox=dict(facecolor='none', edgecolor='black', boxstyle='round'))\n",
    "print(avgquad.min(), mBiasQ.min(), avgquad.max(), mBiasQ.max(), avgquad.std(), mBiasQ.std())"
   ]
  },
  {
   "cell_type": "code",
   "execution_count": null,
   "metadata": {},
   "outputs": [],
   "source": [
    "fits.writeto(Path(cal_dir, 'masterBias_bin1_average_Mars_2018.fits'), mbias_bin1.astype(np.float32), overwrite=True)\n",
    "del imquad\n",
    "print(mbias_bin1.shape)"
   ]
  },
  {
   "cell_type": "code",
   "execution_count": null,
   "metadata": {},
   "outputs": [],
   "source": [
    "mbias_bin1 = fitsread(Path(cal_dir, 'masterBias_bin1_average_Mars_2018.fits'))"
   ]
  },
  {
   "cell_type": "code",
   "execution_count": null,
   "metadata": {},
   "outputs": [],
   "source": [
    "bias_dir = Path(cal_dir, 'Bias_bin2_Nov_2018')\n",
    "biasf = list(bias_dir.rglob('Bias*.fit'))\n",
    "print(len(biasf))\n",
    "biases = np.array([fitsread(f) for f in biasf])\n",
    "mbias_bin2 = biases.mean(axis=0)"
   ]
  },
  {
   "cell_type": "code",
   "execution_count": null,
   "metadata": {},
   "outputs": [],
   "source": [
    "fits.writeto(Path(cal_dir, 'masterBias_bin2_average_Nov_2018.fits'), mbias_bin2.astype(np.float32), overwrite=True)\n",
    "del biases\n",
    "print(mbias_bin2.shape)"
   ]
  },
  {
   "cell_type": "markdown",
   "metadata": {},
   "source": [
    "# Darks"
   ]
  },
  {
   "cell_type": "code",
   "execution_count": null,
   "metadata": {},
   "outputs": [],
   "source": [
    "dark_dir = Path(cal_dir, 'Darks_Jan_2019')\n",
    "darkf600 = list(dark_dir.rglob('*600s*.fit'))\n",
    "darkf300 = list(dark_dir.rglob('*300s*.fit'))\n",
    "len(darkf600), len(darkf300)"
   ]
  },
  {
   "cell_type": "code",
   "execution_count": null,
   "metadata": {},
   "outputs": [],
   "source": [
    "darks600 = np.array([fitsread(f) for f in darkf600])\n",
    "mdark600 =darks600.mean(axis=0)"
   ]
  },
  {
   "cell_type": "code",
   "execution_count": null,
   "metadata": {},
   "outputs": [],
   "source": [
    "fits.writeto(Path(cal_dir, 'masterDark600_bin1_average_Jan_2019.fits'), mdark600.astype(np.float32))"
   ]
  },
  {
   "cell_type": "code",
   "execution_count": null,
   "metadata": {},
   "outputs": [],
   "source": [
    "darks300 = np.array([fitsread(f) for f in darkf300])\n",
    "mdark300 = darks300.mean(axis=0)"
   ]
  },
  {
   "cell_type": "code",
   "execution_count": null,
   "metadata": {},
   "outputs": [],
   "source": [
    "fits.writeto(Path(cal_dir, 'masterDark300_bin2_average_Jan_2019.fits'), mdark300.astype(np.float32))"
   ]
  },
  {
   "cell_type": "markdown",
   "metadata": {},
   "source": [
    "# Flats"
   ]
  },
  {
   "cell_type": "code",
   "execution_count": null,
   "metadata": {},
   "outputs": [],
   "source": [
    "flats_dir = Path(cal_dir, 'Flats')\n",
    "hflatsf = list(flats_dir.rglob('Hflat_Mar_3_2019/HFlat*.fit'))\n",
    "\n",
    "rflatsf = list(flats_dir.rglob('RFlat_Jan_26_2019/RFlat*.fit'))\n",
    "gflatsf = list(flats_dir.rglob('GFlat_Feb_3_2019/GFlat*.fit'))\n",
    "bflatsf = list(flats_dir.rglob('BFlat_Feb_4_2019/BFlat*.fit'))\n",
    "rgbflatsf = [rflatsf, gflatsf, bflatsf]\n",
    "len(rflatsf), len(gflatsf), len(bflatsf), len(hflatsf)"
   ]
  },
  {
   "cell_type": "code",
   "execution_count": null,
   "metadata": {},
   "outputs": [],
   "source": [
    "mdark600_flat = mdark600-mbias_bin1\n",
    "\n",
    "with fits.open(hflatsf[0]) as hdul:\n",
    "    nx = hdul[0].header['NAXIS1']\n",
    "    ny = hdul[0].header['NAXIS2']\n",
    "    exposure = hdul[0].header['EXPTIME']\n",
    "\n",
    "exp_scale1 = exposure/600\n",
    "\n",
    "masterHFlat = np.zeros([len(hflatsf), ny, nx])\n",
    "for i, f in enumerate(hflatsf):\n",
    "    with fits.open(f) as hdul:\n",
    "        masterHFlat[i] = hdul[0].data -exp_scale1*mdark600_flat\n",
    "\n",
    "m0 = np.median(masterHFlat[0])\n",
    "masterHFlat = np.array([m0/np.median(flat)*flat for flat in masterHFlat])\n",
    "masterHFlat = masterHFlat.mean(axis=0)"
   ]
  },
  {
   "cell_type": "code",
   "execution_count": null,
   "metadata": {},
   "outputs": [],
   "source": [
    "fits.writeto(Path(cal_dir, 'masterHFlat_bin1_Mar_3_2019.fits'), masterHFlat, overwrite=True)"
   ]
  },
  {
   "cell_type": "code",
   "execution_count": null,
   "metadata": {},
   "outputs": [],
   "source": [
    "mdark300_flat = mdark300-mbias_bin2\n",
    "\n",
    "masterRGBFlats = []\n",
    "for xflatsf in rgbflatsf:\n",
    "    \n",
    "    with fits.open(xflatsf[0]) as hdul:\n",
    "        nx = hdul[0].header['NAXIS1']\n",
    "        ny = hdul[0].header['NAXIS2']\n",
    "        exposure = hdul[0].header['EXPTIME']\n",
    "\n",
    "    exp_scale1 = exposure/300\n",
    "    masterXFlat = np.zeros([len(xflatsf), ny, nx])\n",
    "    for i, f in enumerate(xflatsf):\n",
    "        with fits.open(f) as hdul:\n",
    "            masterXFlat[i] = hdul[0].data - exp_scale1*mdark300_flat\n",
    "    \n",
    "    m0 = np.median(masterXFlat[0])\n",
    "    masterXFlat = np.array([m0/np.median(flat)*flat for flat in masterXFlat])\n",
    "    \n",
    "    masterXFlat = masterXFlat.mean(axis=0)\n",
    "    masterRGBFlats.append(masterXFlat)"
   ]
  },
  {
   "cell_type": "code",
   "execution_count": null,
   "metadata": {},
   "outputs": [],
   "source": [
    "fits.writeto(Path(cal_dir, 'masterRFlat_bin2_Jan_26_2019.fits'), masterRGBFlats[0], overwrite=True)\n",
    "fits.writeto(Path(cal_dir, 'masterGFlat_bin2_Feb_3_2019.fits'), masterRGBFlats[1], overwrite=True)\n",
    "fits.writeto(Path(cal_dir, 'masterBFlat_bin2_Feb_4_2019.fits'), masterRGBFlats[2], overwrite=True)"
   ]
  },
  {
   "cell_type": "code",
   "execution_count": null,
   "metadata": {},
   "outputs": [],
   "source": []
  }
 ],
 "metadata": {
  "kernelspec": {
   "display_name": "Python 3",
   "language": "python",
   "name": "python3"
  },
  "language_info": {
   "codemirror_mode": {
    "name": "ipython",
    "version": 3
   },
   "file_extension": ".py",
   "mimetype": "text/x-python",
   "name": "python",
   "nbconvert_exporter": "python",
   "pygments_lexer": "ipython3",
   "version": "3.8.5"
  }
 },
 "nbformat": 4,
 "nbformat_minor": 4
}
