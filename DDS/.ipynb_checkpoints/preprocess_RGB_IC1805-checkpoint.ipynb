{
 "cells": [
  {
   "cell_type": "code",
   "execution_count": 1,
   "metadata": {},
   "outputs": [],
   "source": [
    "from astropy.io import fits\n",
    "from astropy.stats import biweight_midvariance as bwmv\n",
    "from astropy.stats import median_absolute_deviation as mad\n",
    "import astroalign as aa\n",
    "import cv2\n",
    "from pathlib import Path\n",
    "import numpy as np\n",
    "import matplotlib.pyplot as plt\n",
    "from skimage.registration import phase_cross_correlation\n",
    "# Shift the image\n",
    "from scipy.ndimage import shift\n",
    "import pandas as pd\n",
    "import os\n",
    "\n",
    "def fitsread(f, header=False):\n",
    "    with fits.open(f) as hdul:\n",
    "        data = hdul[0].data\n",
    "        if header:\n",
    "            h = hdul[0].header\n",
    "            return data, h\n",
    "        else:\n",
    "            return data\n",
    "        \n",
    "def rescale(image, mref, sref, roi=None):\n",
    "    imageV = image if roi is None else image[roi]\n",
    "    m1 = np.median(imageV)\n",
    "    s1 = mad(imageV)\n",
    "    ki = sref/s1\n",
    "    rimage = ki*(image - m1) + mref\n",
    "    return rimage"
   ]
  },
  {
   "cell_type": "code",
   "execution_count": 3,
   "metadata": {},
   "outputs": [
    {
     "name": "stdout",
     "output_type": "stream",
     "text": [
      "Directories exist for RGB?\n",
      "True\n",
      "True\n",
      "True\n",
      "Nb of files in each RGB channel:  18 8 15\n"
     ]
    }
   ],
   "source": [
    "# Masters\n",
    "cal_dir = Path(os.environ['DATA'], 'DDS', 'Taka', 'Calibration')\n",
    "rgbdirs = [Path(os.environ['DATA'], 'DDS', 'Taka', 'Lights', 'IC_1805', c) for c in 'RGB']\n",
    "print('Directories exist for RGB?')\n",
    "for cdir in rgbdirs: print(cdir.exists())\n",
    "rgbf = [sorted(rgbdir.rglob('*.fit')) for rgbdir in rgbdirs]\n",
    "print('Nb of files in each RGB channel: ', len(rgbf[0]), len(rgbf[1]), len(rgbf[2]))\n",
    "\n",
    "dark300f = Path(cal_dir, 'masterDark300_bin2_median_Jan_2019.fits')\n",
    "\n",
    "RFlatf = Path(cal_dir, 'masterRFlat_bin2_Jan_26_2019.fits')\n",
    "GFlatf = Path(cal_dir, 'masterGFlat_bin2_Feb_3_2019.fits')\n",
    "BFlatf = Path(cal_dir, 'masterBFlat_bin2_Feb_4_2019.fits')\n",
    "\n",
    "mDark = fitsread(dark300f)"
   ]
  },
  {
   "cell_type": "markdown",
   "metadata": {},
   "source": [
    "# RED"
   ]
  },
  {
   "cell_type": "code",
   "execution_count": null,
   "metadata": {},
   "outputs": [],
   "source": [
    "# Load 1st image to get reference statistics\n",
    "im0 = fitsread(rgbf[0])\n",
    "# image size\n",
    "sz = im0.shape\n",
    "# Field of view for a sample to compute statistical moments faster.\n",
    "tfov0 = np.s_[:, -512:, -512]\n",
    "fov0 = tfov0[1:]\n",
    "# Reference statistical moments\n",
    "m0 = np.median(im0[fov0])\n",
    "s0 = mad(im0[fov0])"
   ]
  },
  {
   "cell_type": "code",
   "execution_count": 24,
   "metadata": {},
   "outputs": [],
   "source": [
    "# Load flat field\n",
    "cFlat = fitsread(RFlatf)"
   ]
  },
  {
   "cell_type": "code",
   "execution_count": 19,
   "metadata": {},
   "outputs": [],
   "source": [
    "clights = np.array([fitsread(f) for f in rgbf[0]])"
   ]
  },
  {
   "cell_type": "code",
   "execution_count": 23,
   "metadata": {},
   "outputs": [],
   "source": [
    "cCal1 = clights - mDark\n",
    "cCal1[cCal1 < 0] = 0"
   ]
  },
  {
   "cell_type": "code",
   "execution_count": 25,
   "metadata": {},
   "outputs": [],
   "source": [
    "cCal2 = cCal1 / cFlat"
   ]
  },
  {
   "cell_type": "code",
   "execution_count": 26,
   "metadata": {},
   "outputs": [
    {
     "name": "stdout",
     "output_type": "stream",
     "text": [
      "35218.82377664365\n"
     ]
    }
   ],
   "source": [
    "scale = np.median(cCal1) / np.median(cCal2)\n",
    "print(scale)"
   ]
  },
  {
   "cell_type": "code",
   "execution_count": null,
   "metadata": {},
   "outputs": [],
   "source": [
    "Hregdir = Path(lights_dir, 'H', 'registered')\n",
    "Hregdir.mkdir(parents=False, exist_ok=True)\n",
    "\n",
    "fov = np.s_[1000:1000+1024, 1000:1000+1024]\n",
    "ref = HCal2[int(len(Hf)/2)][fov]\n",
    "\n",
    "imshifts = []\n",
    "for i, f in enumerate(Hf):\n",
    "    image = HCal2[i][fov]\n",
    "    imshift, _, _ = phase_cross_correlation(ref, image, upsample_factor=10)\n",
    "    imshifts.append(imshift)\n",
    "    if (imshift[0]==0) & (imshift[1]==0):\n",
    "        print(f'no shift at file {f}')\n",
    "        image2 = HCal2[i].copy()*scale\n",
    "    else:\n",
    "        image2 = shift(HCal2[i], imshift)*scale\n",
    "    \n",
    "    fits.writeto(Path(Hregdir, f'{f.stem}.reg.fits'), image2.astype(np.float32), overwrite=True)"
   ]
  },
  {
   "cell_type": "code",
   "execution_count": null,
   "metadata": {},
   "outputs": [],
   "source": [
    "Hregf = sorted(Hregdir.rglob('*.reg.fits'))\n",
    "len(Hregf)"
   ]
  },
  {
   "cell_type": "code",
   "execution_count": null,
   "metadata": {},
   "outputs": [],
   "source": [
    "Hreg = np.array([fitsread(f) for f in Hregf])"
   ]
  },
  {
   "cell_type": "code",
   "execution_count": null,
   "metadata": {},
   "outputs": [],
   "source": [
    "Hstackmed = np.median(Hreg, axis=0)"
   ]
  },
  {
   "cell_type": "code",
   "execution_count": null,
   "metadata": {},
   "outputs": [],
   "source": [
    "fits.writeto(Path(lights_dir, 'stacked', 'Hstackmed.fits'), Hstackmed.astype(np.float32), overwrite=True)"
   ]
  },
  {
   "cell_type": "code",
   "execution_count": null,
   "metadata": {},
   "outputs": [],
   "source": [
    "plt.figure(figsize=(20,13))\n",
    "plt.imshow(Hstackmed, vmin=np.percentile(Hstackmed, 0.1), vmax=np.percentile(Hstackmed, 99.9), origin='lower', cmap='gray')\n",
    "plt.tick_params(\n",
    "    axis='both',        \n",
    "    which='both',      # both major and minor ticks are affected\n",
    "    bottom=False,      # ticks along the bottom edge are off\n",
    "    top=False,         # ticks along the top edge are off\n",
    "    labelbottom=False,\n",
    "    left=False,\n",
    "    labelleft=False) \n",
    "plt.tight_layout()\n",
    "plt.savefig('Hstackmed2.jpg')"
   ]
  },
  {
   "cell_type": "code",
   "execution_count": null,
   "metadata": {},
   "outputs": [],
   "source": []
  }
 ],
 "metadata": {
  "kernelspec": {
   "display_name": "Python 3",
   "language": "python",
   "name": "python3"
  },
  "language_info": {
   "codemirror_mode": {
    "name": "ipython",
    "version": 3
   },
   "file_extension": ".py",
   "mimetype": "text/x-python",
   "name": "python",
   "nbconvert_exporter": "python",
   "pygments_lexer": "ipython3",
   "version": "3.8.5"
  }
 },
 "nbformat": 4,
 "nbformat_minor": 4
}
